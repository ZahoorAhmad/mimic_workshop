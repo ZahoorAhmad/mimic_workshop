{
 "cells": [
  {
   "cell_type": "markdown",
   "metadata": {},
   "source": [
    "# Exploring the trajectory of a single patient"
   ]
  },
  {
   "cell_type": "markdown",
   "metadata": {},
   "source": [
    "### Import Python libraries"
   ]
  },
  {
   "cell_type": "markdown",
   "metadata": {},
   "source": [
    "We first need to import some tools for working with data in Python. \n",
    "- NumPy is for working with numbers\n",
    "- Pandas is for analysing data\n",
    "- MatPlotLib is for making plots\n",
    "- Sqlite3 to connect to the database"
   ]
  },
  {
   "cell_type": "code",
   "execution_count": 4,
   "metadata": {},
   "outputs": [],
   "source": [
    "import numpy as np\n",
    "import pandas as pd\n",
    "import matplotlib.pyplot as plt\n",
    "import sqlite3\n",
    "%matplotlib inline"
   ]
  },
  {
   "cell_type": "markdown",
   "metadata": {},
   "source": [
    "### Connect to the database"
   ]
  },
  {
   "cell_type": "markdown",
   "metadata": {},
   "source": [
    "- We can use the sqlite3 library to connect to the MIMIC database\n",
    "- Once the connection is established, we'll run a simple SQL query."
   ]
  },
  {
   "cell_type": "code",
   "execution_count": 5,
   "metadata": {},
   "outputs": [],
   "source": [
    "# Connect to the MIMIC database\n",
    "conn = sqlite3.connect('C:/Users/mk5414/desktop/mimicdata.sqlite')"
   ]
  },
  {
   "cell_type": "code",
   "execution_count": 6,
   "metadata": {},
   "outputs": [],
   "source": [
    "# Create our test query\n",
    "test_query = \"\"\"\n",
    "SELECT subject_id, hadm_id, admittime, dischtime, admission_type, diagnosis\n",
    "FROM admissions\n",
    "\"\"\""
   ]
  },
  {
   "cell_type": "code",
   "execution_count": 7,
   "metadata": {},
   "outputs": [],
   "source": [
    "# Run the query and assign the results to a variable\n",
    "test = pd.read_sql_query(test_query,conn)"
   ]
  },
  {
   "cell_type": "code",
   "execution_count": 8,
   "metadata": {},
   "outputs": [
    {
     "data": {
      "text/html": [
       "<div>\n",
       "<style scoped>\n",
       "    .dataframe tbody tr th:only-of-type {\n",
       "        vertical-align: middle;\n",
       "    }\n",
       "\n",
       "    .dataframe tbody tr th {\n",
       "        vertical-align: top;\n",
       "    }\n",
       "\n",
       "    .dataframe thead th {\n",
       "        text-align: right;\n",
       "    }\n",
       "</style>\n",
       "<table border=\"1\" class=\"dataframe\">\n",
       "  <thead>\n",
       "    <tr style=\"text-align: right;\">\n",
       "      <th></th>\n",
       "      <th>SUBJECT_ID</th>\n",
       "      <th>HADM_ID</th>\n",
       "      <th>ADMITTIME</th>\n",
       "      <th>DISCHTIME</th>\n",
       "      <th>ADMISSION_TYPE</th>\n",
       "      <th>DIAGNOSIS</th>\n",
       "    </tr>\n",
       "  </thead>\n",
       "  <tbody>\n",
       "    <tr>\n",
       "      <th>0</th>\n",
       "      <td>40036</td>\n",
       "      <td>198489</td>\n",
       "      <td>2141-08-01 23:46:00</td>\n",
       "      <td>2141-08-09 19:15:00</td>\n",
       "      <td>EMERGENCY</td>\n",
       "      <td>SEPSIS</td>\n",
       "    </tr>\n",
       "    <tr>\n",
       "      <th>1</th>\n",
       "      <td>40080</td>\n",
       "      <td>162107</td>\n",
       "      <td>2106-05-31 16:43:00</td>\n",
       "      <td>2106-06-05 01:18:00</td>\n",
       "      <td>EMERGENCY</td>\n",
       "      <td>CONGESTIVE HEART FAILURE</td>\n",
       "    </tr>\n",
       "    <tr>\n",
       "      <th>2</th>\n",
       "      <td>40084</td>\n",
       "      <td>195762</td>\n",
       "      <td>2173-01-31 22:11:00</td>\n",
       "      <td>2173-02-05 01:31:00</td>\n",
       "      <td>EMERGENCY</td>\n",
       "      <td>INTRACRANIAL HEMORRHAGE;OPEN FX</td>\n",
       "    </tr>\n",
       "    <tr>\n",
       "      <th>3</th>\n",
       "      <td>40116</td>\n",
       "      <td>157106</td>\n",
       "      <td>2150-02-19 00:12:00</td>\n",
       "      <td>2150-03-11 13:58:00</td>\n",
       "      <td>EMERGENCY</td>\n",
       "      <td>GASTROINTESTINAL BLEED</td>\n",
       "    </tr>\n",
       "    <tr>\n",
       "      <th>4</th>\n",
       "      <td>40120</td>\n",
       "      <td>146466</td>\n",
       "      <td>2120-01-27 20:41:00</td>\n",
       "      <td>2120-02-12 17:14:00</td>\n",
       "      <td>EMERGENCY</td>\n",
       "      <td>CONGESTIVE HEART FAILURE</td>\n",
       "    </tr>\n",
       "  </tbody>\n",
       "</table>\n",
       "</div>"
      ],
      "text/plain": [
       "   SUBJECT_ID  HADM_ID            ADMITTIME            DISCHTIME  \\\n",
       "0       40036   198489  2141-08-01 23:46:00  2141-08-09 19:15:00   \n",
       "1       40080   162107  2106-05-31 16:43:00  2106-06-05 01:18:00   \n",
       "2       40084   195762  2173-01-31 22:11:00  2173-02-05 01:31:00   \n",
       "3       40116   157106  2150-02-19 00:12:00  2150-03-11 13:58:00   \n",
       "4       40120   146466  2120-01-27 20:41:00  2120-02-12 17:14:00   \n",
       "\n",
       "  ADMISSION_TYPE                        DIAGNOSIS  \n",
       "0      EMERGENCY                           SEPSIS  \n",
       "1      EMERGENCY         CONGESTIVE HEART FAILURE  \n",
       "2      EMERGENCY  INTRACRANIAL HEMORRHAGE;OPEN FX  \n",
       "3      EMERGENCY           GASTROINTESTINAL BLEED  \n",
       "4      EMERGENCY         CONGESTIVE HEART FAILURE  "
      ]
     },
     "execution_count": 8,
     "metadata": {},
     "output_type": "execute_result"
    }
   ],
   "source": [
    "# Display the first few rows\n",
    "test.head()"
   ]
  },
  {
   "cell_type": "markdown",
   "metadata": {},
   "source": [
    "### Load the chartevents data"
   ]
  },
  {
   "cell_type": "markdown",
   "metadata": {},
   "source": [
    "- The chartevents table contains data charted at the patient bedside. It includes variables such as heart rate, respiratory rate, temperature, and so on.\n",
    "- We'll begin by loading the chartevents data for a single patient."
   ]
  },
  {
   "cell_type": "code",
   "execution_count": 9,
   "metadata": {},
   "outputs": [],
   "source": [
    "query = \"\"\"\n",
    "SELECT de.icustay_id\n",
    "  , round((strftime('%s',de.charttime)-strftime('%s',ie.intime))/60.0/60.0+0.5) as HOURS\n",
    "  , di.label\n",
    "  , de.value\n",
    "  , de.valuenum\n",
    "  , de.uom\n",
    "FROM chartevents de\n",
    "INNER join d_items di\n",
    "ON de.itemid = di.itemid\n",
    "INNER join icustays ie\n",
    "ON de.icustay_id = ie.icustay_id\n",
    "WHERE de.icustay_id = 252522\n",
    "ORDER BY charttime;\n",
    "\"\"\"\n",
    "\n",
    "ce = pd.read_sql_query(query,conn)\n",
    "\n",
    "\n",
    "# OPTION 2: load chartevents from a CSV file\n",
    "# ce = pd.read_csv('data/example_chartevents.csv', index_col='HOURSSINCEADMISSION')"
   ]
  },
  {
   "cell_type": "code",
   "execution_count": 10,
   "metadata": {},
   "outputs": [
    {
     "data": {
      "text/html": [
       "<div>\n",
       "<style scoped>\n",
       "    .dataframe tbody tr th:only-of-type {\n",
       "        vertical-align: middle;\n",
       "    }\n",
       "\n",
       "    .dataframe tbody tr th {\n",
       "        vertical-align: top;\n",
       "    }\n",
       "\n",
       "    .dataframe thead th {\n",
       "        text-align: right;\n",
       "    }\n",
       "</style>\n",
       "<table border=\"1\" class=\"dataframe\">\n",
       "  <thead>\n",
       "    <tr style=\"text-align: right;\">\n",
       "      <th></th>\n",
       "      <th>ICUSTAY_ID</th>\n",
       "      <th>HOURS</th>\n",
       "      <th>LABEL</th>\n",
       "      <th>VALUE</th>\n",
       "      <th>VALUENUM</th>\n",
       "      <th>UOM</th>\n",
       "    </tr>\n",
       "  </thead>\n",
       "  <tbody>\n",
       "    <tr>\n",
       "      <th>0</th>\n",
       "      <td>252522</td>\n",
       "      <td>1.0</td>\n",
       "      <td>Heart Rate</td>\n",
       "      <td>90</td>\n",
       "      <td>90.0</td>\n",
       "      <td>bpm</td>\n",
       "    </tr>\n",
       "    <tr>\n",
       "      <th>1</th>\n",
       "      <td>252522</td>\n",
       "      <td>1.0</td>\n",
       "      <td>Non Invasive Blood Pressure systolic</td>\n",
       "      <td>104</td>\n",
       "      <td>104.0</td>\n",
       "      <td>mmHg</td>\n",
       "    </tr>\n",
       "    <tr>\n",
       "      <th>2</th>\n",
       "      <td>252522</td>\n",
       "      <td>1.0</td>\n",
       "      <td>Non Invasive Blood Pressure diastolic</td>\n",
       "      <td>63</td>\n",
       "      <td>63.0</td>\n",
       "      <td>mmHg</td>\n",
       "    </tr>\n",
       "    <tr>\n",
       "      <th>3</th>\n",
       "      <td>252522</td>\n",
       "      <td>1.0</td>\n",
       "      <td>Non Invasive Blood Pressure mean</td>\n",
       "      <td>74</td>\n",
       "      <td>74.0</td>\n",
       "      <td>mmHg</td>\n",
       "    </tr>\n",
       "    <tr>\n",
       "      <th>4</th>\n",
       "      <td>252522</td>\n",
       "      <td>1.0</td>\n",
       "      <td>Respiratory Rate</td>\n",
       "      <td>28</td>\n",
       "      <td>28.0</td>\n",
       "      <td>insp/min</td>\n",
       "    </tr>\n",
       "  </tbody>\n",
       "</table>\n",
       "</div>"
      ],
      "text/plain": [
       "   ICUSTAY_ID  HOURS                                  LABEL VALUE  VALUENUM  \\\n",
       "0      252522    1.0                             Heart Rate    90      90.0   \n",
       "1      252522    1.0   Non Invasive Blood Pressure systolic   104     104.0   \n",
       "2      252522    1.0  Non Invasive Blood Pressure diastolic    63      63.0   \n",
       "3      252522    1.0       Non Invasive Blood Pressure mean    74      74.0   \n",
       "4      252522    1.0                       Respiratory Rate    28      28.0   \n",
       "\n",
       "        UOM  \n",
       "0       bpm  \n",
       "1      mmHg  \n",
       "2      mmHg  \n",
       "3      mmHg  \n",
       "4  insp/min  "
      ]
     },
     "execution_count": 10,
     "metadata": {},
     "output_type": "execute_result"
    }
   ],
   "source": [
    "# Preview the data\n",
    "# Use 'head' to limit the number of rows returned\n",
    "ce.head()"
   ]
  },
  {
   "cell_type": "markdown",
   "metadata": {},
   "source": [
    "### Review the patient's heart rate"
   ]
  },
  {
   "cell_type": "markdown",
   "metadata": {},
   "source": [
    "- We can select individual columns using the column name. \n",
    "- For example, if we want to select just the label column, we write **```ce.LABEL```** or alternatively **```ce['LABEL']```**"
   ]
  },
  {
   "cell_type": "code",
   "execution_count": 11,
   "metadata": {},
   "outputs": [
    {
     "data": {
      "text/plain": [
       "0                                     Heart Rate\n",
       "1           Non Invasive Blood Pressure systolic\n",
       "2          Non Invasive Blood Pressure diastolic\n",
       "3               Non Invasive Blood Pressure mean\n",
       "4                               Respiratory Rate\n",
       "5                    O2 saturation pulseoxymetry\n",
       "6                                     Heart Rate\n",
       "7                        Heart rate Alarm - High\n",
       "8                         Heart Rate Alarm - Low\n",
       "9                               Respiratory Rate\n",
       "10                   O2 saturation pulseoxymetry\n",
       "11      Non-Invasive Blood Pressure Alarm - High\n",
       "12       Non-Invasive Blood Pressure Alarm - Low\n",
       "13                        Temperature Fahrenheit\n",
       "14      O2 Saturation Pulseoxymetry Alarm - High\n",
       "15       O2 Saturation Pulseoxymetry Alarm - Low\n",
       "16                             Resp Alarm - High\n",
       "17                              Resp Alarm - Low\n",
       "18                              SpO2 Desat Limit\n",
       "19                            Richmond-RAS Scale\n",
       "20                             GCS - Eye Opening\n",
       "21                         GCS - Verbal Response\n",
       "22                          GCS - Motor Response\n",
       "23                                       O2 Flow\n",
       "24                                    Heart Rate\n",
       "25          Non Invasive Blood Pressure systolic\n",
       "26         Non Invasive Blood Pressure diastolic\n",
       "27              Non Invasive Blood Pressure mean\n",
       "28                              Respiratory Rate\n",
       "29                   O2 saturation pulseoxymetry\n",
       "                          ...                   \n",
       "1116     O2 Saturation Pulseoxymetry Alarm - Low\n",
       "1117                           Resp Alarm - High\n",
       "1118                            Resp Alarm - Low\n",
       "1119                            SpO2 Desat Limit\n",
       "1120                          Richmond-RAS Scale\n",
       "1121                           GCS - Eye Opening\n",
       "1122                                  Heart Rate\n",
       "1123        Non Invasive Blood Pressure systolic\n",
       "1124       Non Invasive Blood Pressure diastolic\n",
       "1125            Non Invasive Blood Pressure mean\n",
       "1126                            Respiratory Rate\n",
       "1127                 O2 saturation pulseoxymetry\n",
       "1128                                  Heart Rate\n",
       "1129        Non Invasive Blood Pressure systolic\n",
       "1130       Non Invasive Blood Pressure diastolic\n",
       "1131            Non Invasive Blood Pressure mean\n",
       "1132                            Respiratory Rate\n",
       "1133                 O2 saturation pulseoxymetry\n",
       "1134                                  Heart Rate\n",
       "1135        Non Invasive Blood Pressure systolic\n",
       "1136       Non Invasive Blood Pressure diastolic\n",
       "1137            Non Invasive Blood Pressure mean\n",
       "1138                            Respiratory Rate\n",
       "1139                 O2 saturation pulseoxymetry\n",
       "1140                                  Heart Rate\n",
       "1141        Non Invasive Blood Pressure systolic\n",
       "1142       Non Invasive Blood Pressure diastolic\n",
       "1143            Non Invasive Blood Pressure mean\n",
       "1144                            Respiratory Rate\n",
       "1145                 O2 saturation pulseoxymetry\n",
       "Name: LABEL, Length: 1146, dtype: object"
      ]
     },
     "execution_count": 11,
     "metadata": {},
     "output_type": "execute_result"
    }
   ],
   "source": [
    "# Select a single column\n",
    "ce['LABEL']"
   ]
  },
  {
   "cell_type": "markdown",
   "metadata": {},
   "source": [
    "- In a similar way, we can select rows from data using indexes. \n",
    "- For example, to select rows where the label is equal to 'Heart Rate', we would create an index using **```[ce.LABEL=='Heart Rate']```** "
   ]
  },
  {
   "cell_type": "code",
   "execution_count": 187,
   "metadata": {},
   "outputs": [
    {
     "data": {
      "text/html": [
       "<div>\n",
       "<style scoped>\n",
       "    .dataframe tbody tr th:only-of-type {\n",
       "        vertical-align: middle;\n",
       "    }\n",
       "\n",
       "    .dataframe tbody tr th {\n",
       "        vertical-align: top;\n",
       "    }\n",
       "\n",
       "    .dataframe thead th {\n",
       "        text-align: right;\n",
       "    }\n",
       "</style>\n",
       "<table border=\"1\" class=\"dataframe\">\n",
       "  <thead>\n",
       "    <tr style=\"text-align: right;\">\n",
       "      <th></th>\n",
       "      <th>ICUSTAY_ID</th>\n",
       "      <th>HOURS</th>\n",
       "      <th>LABEL</th>\n",
       "      <th>VALUE</th>\n",
       "      <th>VALUENUM</th>\n",
       "      <th>UOM</th>\n",
       "    </tr>\n",
       "  </thead>\n",
       "  <tbody>\n",
       "    <tr>\n",
       "      <th>117</th>\n",
       "      <td>252522</td>\n",
       "      <td>11.0</td>\n",
       "      <td>Creatinine</td>\n",
       "      <td>.6</td>\n",
       "      <td>0.6</td>\n",
       "      <td>mg/dL</td>\n",
       "    </tr>\n",
       "    <tr>\n",
       "      <th>258</th>\n",
       "      <td>252522</td>\n",
       "      <td>24.0</td>\n",
       "      <td>Creatinine</td>\n",
       "      <td>.6</td>\n",
       "      <td>0.6</td>\n",
       "      <td>mg/dL</td>\n",
       "    </tr>\n",
       "    <tr>\n",
       "      <th>369</th>\n",
       "      <td>252522</td>\n",
       "      <td>35.0</td>\n",
       "      <td>Creatinine</td>\n",
       "      <td>.5</td>\n",
       "      <td>0.5</td>\n",
       "      <td>mg/dL</td>\n",
       "    </tr>\n",
       "    <tr>\n",
       "      <th>488</th>\n",
       "      <td>252522</td>\n",
       "      <td>48.0</td>\n",
       "      <td>Creatinine</td>\n",
       "      <td>.5</td>\n",
       "      <td>0.5</td>\n",
       "      <td>mg/dL</td>\n",
       "    </tr>\n",
       "    <tr>\n",
       "      <th>590</th>\n",
       "      <td>252522</td>\n",
       "      <td>59.0</td>\n",
       "      <td>Creatinine</td>\n",
       "      <td>.6</td>\n",
       "      <td>0.6</td>\n",
       "      <td>mg/dL</td>\n",
       "    </tr>\n",
       "    <tr>\n",
       "      <th>713</th>\n",
       "      <td>252522</td>\n",
       "      <td>72.0</td>\n",
       "      <td>Creatinine</td>\n",
       "      <td>.6</td>\n",
       "      <td>0.6</td>\n",
       "      <td>mg/dL</td>\n",
       "    </tr>\n",
       "    <tr>\n",
       "      <th>824</th>\n",
       "      <td>252522</td>\n",
       "      <td>83.0</td>\n",
       "      <td>Creatinine</td>\n",
       "      <td>.6</td>\n",
       "      <td>0.6</td>\n",
       "      <td>mg/dL</td>\n",
       "    </tr>\n",
       "    <tr>\n",
       "      <th>969</th>\n",
       "      <td>252522</td>\n",
       "      <td>96.0</td>\n",
       "      <td>Creatinine</td>\n",
       "      <td>.6</td>\n",
       "      <td>0.6</td>\n",
       "      <td>mg/dL</td>\n",
       "    </tr>\n",
       "    <tr>\n",
       "      <th>1078</th>\n",
       "      <td>252522</td>\n",
       "      <td>109.0</td>\n",
       "      <td>Creatinine</td>\n",
       "      <td>.7</td>\n",
       "      <td>0.7</td>\n",
       "      <td>mg/dL</td>\n",
       "    </tr>\n",
       "  </tbody>\n",
       "</table>\n",
       "</div>"
      ],
      "text/plain": [
       "      ICUSTAY_ID  HOURS       LABEL VALUE  VALUENUM    UOM\n",
       "117       252522   11.0  Creatinine    .6       0.6  mg/dL\n",
       "258       252522   24.0  Creatinine    .6       0.6  mg/dL\n",
       "369       252522   35.0  Creatinine    .5       0.5  mg/dL\n",
       "488       252522   48.0  Creatinine    .5       0.5  mg/dL\n",
       "590       252522   59.0  Creatinine    .6       0.6  mg/dL\n",
       "713       252522   72.0  Creatinine    .6       0.6  mg/dL\n",
       "824       252522   83.0  Creatinine    .6       0.6  mg/dL\n",
       "969       252522   96.0  Creatinine    .6       0.6  mg/dL\n",
       "1078      252522  109.0  Creatinine    .7       0.7  mg/dL"
      ]
     },
     "execution_count": 187,
     "metadata": {},
     "output_type": "execute_result"
    }
   ],
   "source": [
    "# Select just the heart rate rows using an index\n",
    "ce[ce.LABEL=='Heart Rate']"
   ]
  },
  {
   "cell_type": "markdown",
   "metadata": {},
   "source": [
    "### Plot 1: How did the patients heart rate change over time?"
   ]
  },
  {
   "cell_type": "markdown",
   "metadata": {},
   "source": [
    "- Using the methods described above to select our data of interest, we can create our x and y axis values to create a time series plot of heart rate."
   ]
  },
  {
   "cell_type": "code",
   "execution_count": 13,
   "metadata": {},
   "outputs": [
    {
     "name": "stdout",
     "output_type": "stream",
     "text": [
      "Int64Index([   0,    6,   24,   30,   36,   58,   67,   77,   88,   95,\n",
      "            ...\n",
      "            1051, 1057, 1069, 1092, 1098, 1104, 1122, 1128, 1134, 1140],\n",
      "           dtype='int64', length=116)\n"
     ]
    }
   ],
   "source": [
    "# Which time stamps have a corresponding heart rate measurement?\n",
    "print ce.index[ce.LABEL=='Heart Rate']"
   ]
  },
  {
   "cell_type": "code",
   "execution_count": 14,
   "metadata": {
    "scrolled": true
   },
   "outputs": [
    {
     "data": {
      "text/plain": [
       "Text(0.5,1,u'Heart rate over time from admission to the intensive care unit')"
      ]
     },
     "execution_count": 14,
     "metadata": {},
     "output_type": "execute_result"
    },
    {
     "data": {
      "image/png": "[encoded data removed]",
      "text/plain": [
       "<matplotlib.figure.Figure at 0x9888cf8>"
      ]
     },
     "metadata": {},
     "output_type": "display_data"
    }
   ],
   "source": [
    "# Set x equal to the times\n",
    "x_hr = ce.HOURS[ce.LABEL=='Heart Rate']\n",
    "\n",
    "# Set y equal to the heart rates\n",
    "y_hr = ce.VALUENUM[ce.LABEL=='Heart Rate']\n",
    "\n",
    "# Plot time against heart rate\n",
    "plt.figure(figsize=(14, 6))\n",
    "plt.plot(x_hr,y_hr)\n",
    "\n",
    "\n",
    "plt.xlabel('Time',fontsize=16)\n",
    "plt.ylabel('Heart rate',fontsize=16)\n",
    "plt.title('Heart rate over time from admission to the intensive care unit')"
   ]
  },
  {
   "cell_type": "markdown",
   "metadata": {},
   "source": [
    "### Task 1\n",
    "\n",
    "* What is happening to this patient's heart rate?\n",
    "* Plot respiratory rate over time for the patient.\n",
    "* Is there anything unusual about the patient's respiratory rate?\n"
   ]
  },
  {
   "cell_type": "code",
   "execution_count": 15,
   "metadata": {},
   "outputs": [],
   "source": [
    "# Exercise 1 here\n",
    "\n"
   ]
  },
  {
   "cell_type": "markdown",
   "metadata": {},
   "source": [
    "### Plot 2: Did the patient's vital signs breach any alarm thresholds?"
   ]
  },
  {
   "cell_type": "markdown",
   "metadata": {},
   "source": [
    "- Alarm systems in the intensive care unit are commonly based on high and low thresholds defined by the carer.\n",
    "- False alarms are often a problem and so thresholds may be set arbitrarily to reduce alarms.\n",
    "- As a result, alarm settings carry limited information."
   ]
  },
  {
   "cell_type": "code",
   "execution_count": 16,
   "metadata": {},
   "outputs": [
    {
     "data": {
      "text/plain": [
       "(0, 55)"
      ]
     },
     "execution_count": 16,
     "metadata": {},
     "output_type": "execute_result"
    },
    {
     "data": {
      "image/png": "[encoded data removed]",
      "text/plain": [
       "<matplotlib.figure.Figure at 0xaa567f0>"
      ]
     },
     "metadata": {},
     "output_type": "display_data"
    }
   ],
   "source": [
    "plt.figure(figsize=(14, 6))\n",
    "\n",
    "plt.plot(ce.HOURS[ce.LABEL=='Respiratory Rate'], \n",
    "         ce.VALUENUM[ce.LABEL=='Respiratory Rate'],\n",
    "         'k+', markersize=10, linewidth=4)\n",
    "\n",
    "plt.plot(ce.HOURS[ce.LABEL=='Resp Alarm - High'], \n",
    "         ce.VALUENUM[ce.LABEL=='Resp Alarm - High'],\n",
    "         'm--')\n",
    "\n",
    "plt.plot(ce.HOURS[ce.LABEL=='Resp Alarm - Low'], \n",
    "         ce.VALUENUM[ce.LABEL=='Resp Alarm - Low'],\n",
    "         'm--')\n",
    "\n",
    "plt.xlabel('Time',fontsize=16)\n",
    "plt.ylabel('Respiratory rate',fontsize=16)\n",
    "plt.title('Respiratory rate over time from admission, with upper and lower alarm thresholds')\n",
    "plt.ylim(0,55)\n"
   ]
  },
  {
   "cell_type": "markdown",
   "metadata": {},
   "source": [
    "### Task 2\n",
    "\n",
    "- Based on the data, does it look like the alarms would have triggered for this patient?\n"
   ]
  },
  {
   "cell_type": "markdown",
   "metadata": {},
   "source": [
    "### Plot 3: What was the patient's level of consciousness?"
   ]
  },
  {
   "cell_type": "markdown",
   "metadata": {},
   "source": [
    "- Glasgow Coma Scale (GCS) is a measure of consciousness.\n",
    "- It is commonly used for monitoring patients in the intensive care unit. \n",
    "- It consists of three components: eye response; verbal response; motor response."
   ]
  },
  {
   "cell_type": "code",
   "execution_count": 17,
   "metadata": {},
   "outputs": [
    {
     "data": {
      "text/html": [
       "<div>\n",
       "<style scoped>\n",
       "    .dataframe tbody tr th:only-of-type {\n",
       "        vertical-align: middle;\n",
       "    }\n",
       "\n",
       "    .dataframe tbody tr th {\n",
       "        vertical-align: top;\n",
       "    }\n",
       "\n",
       "    .dataframe thead th {\n",
       "        text-align: right;\n",
       "    }\n",
       "</style>\n",
       "<table border=\"1\" class=\"dataframe\">\n",
       "  <thead>\n",
       "    <tr style=\"text-align: right;\">\n",
       "      <th></th>\n",
       "      <th>ICUSTAY_ID</th>\n",
       "      <th>HOURS</th>\n",
       "      <th>LABEL</th>\n",
       "      <th>VALUE</th>\n",
       "      <th>VALUENUM</th>\n",
       "      <th>UOM</th>\n",
       "    </tr>\n",
       "  </thead>\n",
       "  <tbody>\n",
       "    <tr>\n",
       "      <th>20</th>\n",
       "      <td>252522</td>\n",
       "      <td>1.0</td>\n",
       "      <td>GCS - Eye Opening</td>\n",
       "      <td>Spontaneously</td>\n",
       "      <td>4.0</td>\n",
       "      <td></td>\n",
       "    </tr>\n",
       "    <tr>\n",
       "      <th>55</th>\n",
       "      <td>252522</td>\n",
       "      <td>4.0</td>\n",
       "      <td>GCS - Eye Opening</td>\n",
       "      <td>Spontaneously</td>\n",
       "      <td>4.0</td>\n",
       "      <td></td>\n",
       "    </tr>\n",
       "    <tr>\n",
       "      <th>92</th>\n",
       "      <td>252522</td>\n",
       "      <td>8.0</td>\n",
       "      <td>GCS - Eye Opening</td>\n",
       "      <td>To Speech</td>\n",
       "      <td>3.0</td>\n",
       "      <td></td>\n",
       "    </tr>\n",
       "    <tr>\n",
       "      <th>142</th>\n",
       "      <td>252522</td>\n",
       "      <td>12.0</td>\n",
       "      <td>GCS - Eye Opening</td>\n",
       "      <td>To Speech</td>\n",
       "      <td>3.0</td>\n",
       "      <td></td>\n",
       "    </tr>\n",
       "    <tr>\n",
       "      <th>180</th>\n",
       "      <td>252522</td>\n",
       "      <td>16.0</td>\n",
       "      <td>GCS - Eye Opening</td>\n",
       "      <td>Spontaneously</td>\n",
       "      <td>4.0</td>\n",
       "      <td></td>\n",
       "    </tr>\n",
       "  </tbody>\n",
       "</table>\n",
       "</div>"
      ],
      "text/plain": [
       "     ICUSTAY_ID  HOURS              LABEL          VALUE  VALUENUM UOM\n",
       "20       252522    1.0  GCS - Eye Opening  Spontaneously       4.0    \n",
       "55       252522    4.0  GCS - Eye Opening  Spontaneously       4.0    \n",
       "92       252522    8.0  GCS - Eye Opening      To Speech       3.0    \n",
       "142      252522   12.0  GCS - Eye Opening      To Speech       3.0    \n",
       "180      252522   16.0  GCS - Eye Opening  Spontaneously       4.0    "
      ]
     },
     "execution_count": 17,
     "metadata": {},
     "output_type": "execute_result"
    }
   ],
   "source": [
    "# Display the first few rows of the GCS eye response data\n",
    "ce[ce.LABEL=='GCS - Eye Opening'].head()"
   ]
  },
  {
   "cell_type": "code",
   "execution_count": 18,
   "metadata": {},
   "outputs": [
    {
     "data": {
      "text/plain": [
       "(10, 165)"
      ]
     },
     "execution_count": 18,
     "metadata": {},
     "output_type": "execute_result"
    },
    {
     "data": {
      "image/png": "[encoded data removed]",
      "text/plain": [
       "<matplotlib.figure.Figure at 0xaa72dd8>"
      ]
     },
     "metadata": {},
     "output_type": "display_data"
    }
   ],
   "source": [
    "# Prepare the size of the figure\n",
    "plt.figure(figsize=(18, 10))\n",
    "\n",
    "# Set x equal to the times\n",
    "x_hr = ce.HOURS[ce.LABEL=='Heart Rate']\n",
    "\n",
    "# Set y equal to the heart rates\n",
    "y_hr = ce.VALUENUM[ce.LABEL=='Heart Rate']\n",
    "\n",
    "\n",
    "plt.plot(x_hr,y_hr)\n",
    "\n",
    "plt.plot(ce.HOURS[ce.LABEL=='Respiratory Rate'], \n",
    "         ce.VALUENUM[ce.LABEL=='Respiratory Rate'],\n",
    "         'k', markersize=6)\n",
    "\n",
    "# Add a text label to the y-axis\n",
    "plt.text(-20,155,'GCS - Eye Opening',fontsize=14)\n",
    "plt.text(-20,150,'GCS - Motor Response',fontsize=14)\n",
    "plt.text(-20,145,'GCS - Verbal Response',fontsize=14)   \n",
    "\n",
    "# Iterate over list of GCS labels, plotting around 1 in 10 to avoid overlap\n",
    "for i, txt in enumerate(ce.VALUE[ce.LABEL=='GCS - Eye Opening'].values):\n",
    "    if np.mod(i,6)==0 and i < 65:\n",
    "        plt.annotate(txt, (ce.HOURS[ce.LABEL=='GCS - Eye Opening'].values[i],155),fontsize=14)\n",
    "        \n",
    "for i, txt in enumerate(ce.VALUE[ce.LABEL=='GCS - Motor Response'].values):\n",
    "    if np.mod(i,6)==0 and i < 65:\n",
    "        plt.annotate(txt, (ce.HOURS[ce.LABEL=='GCS - Motor Response'].values[i],150),fontsize=14)\n",
    "\n",
    "for i, txt in enumerate(ce.VALUE[ce.LABEL=='GCS - Verbal Response'].values):\n",
    "    if np.mod(i,6)==0 and i < 65:\n",
    "        plt.annotate(txt, (ce.HOURS[ce.LABEL=='GCS - Verbal Response'].values[i],145),fontsize=14)\n",
    "\n",
    "plt.title('Vital signs and Glasgow Coma Scale over time from admission',fontsize=16)\n",
    "\n",
    "plt.xlabel('Time (hours)',fontsize=16)\n",
    "plt.ylabel('Heart rate or GCS',fontsize=16)\n",
    "plt.ylim(10,165)\n"
   ]
  },
  {
   "cell_type": "markdown",
   "metadata": {},
   "source": [
    "### Task 3\n",
    "\n",
    "- How is the patient's consciousness changing over time?"
   ]
  },
  {
   "cell_type": "markdown",
   "metadata": {},
   "source": [
    "# Stop here..."
   ]
  },
  {
   "cell_type": "markdown",
   "metadata": {},
   "source": [
    "### Plot 4: What other data do we have on the patient?"
   ]
  },
  {
   "cell_type": "markdown",
   "metadata": {},
   "source": [
    "- Using Pandas 'read_csv function' again, we'll now load the outputevents data - this table contains all information about patient outputs (urine output, drains, dialysis)."
   ]
  },
  {
   "cell_type": "code",
   "execution_count": 19,
   "metadata": {},
   "outputs": [],
   "source": [
    "# OPTION 1: load outputs from the patient\n",
    "query = \"\"\"\n",
    "select de.icustay_id\n",
    "  , round((strftime('%s',de.charttime)-strftime('%s',ie.intime))/60.0/60.0+0.5) as HOURS\n",
    "  , di.label\n",
    "  , de.value\n",
    "  , de.valueuom\n",
    "from outputevents de \n",
    "inner join icustays ie\n",
    "  on de.icustay_id = ie.icustay_id\n",
    "inner join d_items di\n",
    "  on de.itemid = di.itemid\n",
    "where de.subject_id = 40080\n",
    "order by charttime;\n",
    "\"\"\"\n",
    "\n",
    "oe = pd.read_sql_query(query,conn)"
   ]
  },
  {
   "cell_type": "code",
   "execution_count": 20,
   "metadata": {},
   "outputs": [
    {
     "data": {
      "text/html": [
       "<div>\n",
       "<style scoped>\n",
       "    .dataframe tbody tr th:only-of-type {\n",
       "        vertical-align: middle;\n",
       "    }\n",
       "\n",
       "    .dataframe tbody tr th {\n",
       "        vertical-align: top;\n",
       "    }\n",
       "\n",
       "    .dataframe thead th {\n",
       "        text-align: right;\n",
       "    }\n",
       "</style>\n",
       "<table border=\"1\" class=\"dataframe\">\n",
       "  <thead>\n",
       "    <tr style=\"text-align: right;\">\n",
       "      <th></th>\n",
       "      <th>ICUSTAY_ID</th>\n",
       "      <th>HOURS</th>\n",
       "      <th>LABEL</th>\n",
       "      <th>VALUE</th>\n",
       "      <th>VALUEUOM</th>\n",
       "    </tr>\n",
       "  </thead>\n",
       "  <tbody>\n",
       "    <tr>\n",
       "      <th>0</th>\n",
       "      <td>252522</td>\n",
       "      <td>1.0</td>\n",
       "      <td>Pre-Admission</td>\n",
       "      <td>60.0</td>\n",
       "      <td>mL</td>\n",
       "    </tr>\n",
       "    <tr>\n",
       "      <th>1</th>\n",
       "      <td>252522</td>\n",
       "      <td>4.0</td>\n",
       "      <td>Foley</td>\n",
       "      <td>80.0</td>\n",
       "      <td>mL</td>\n",
       "    </tr>\n",
       "    <tr>\n",
       "      <th>2</th>\n",
       "      <td>252522</td>\n",
       "      <td>5.0</td>\n",
       "      <td>Foley</td>\n",
       "      <td>60.0</td>\n",
       "      <td>mL</td>\n",
       "    </tr>\n",
       "    <tr>\n",
       "      <th>3</th>\n",
       "      <td>252522</td>\n",
       "      <td>6.0</td>\n",
       "      <td>Foley</td>\n",
       "      <td>60.0</td>\n",
       "      <td>mL</td>\n",
       "    </tr>\n",
       "    <tr>\n",
       "      <th>4</th>\n",
       "      <td>252522</td>\n",
       "      <td>7.0</td>\n",
       "      <td>Foley</td>\n",
       "      <td>60.0</td>\n",
       "      <td>mL</td>\n",
       "    </tr>\n",
       "  </tbody>\n",
       "</table>\n",
       "</div>"
      ],
      "text/plain": [
       "   ICUSTAY_ID  HOURS          LABEL  VALUE VALUEUOM\n",
       "0      252522    1.0  Pre-Admission   60.0       mL\n",
       "1      252522    4.0          Foley   80.0       mL\n",
       "2      252522    5.0          Foley   60.0       mL\n",
       "3      252522    6.0          Foley   60.0       mL\n",
       "4      252522    7.0          Foley   60.0       mL"
      ]
     },
     "execution_count": 20,
     "metadata": {},
     "output_type": "execute_result"
    }
   ],
   "source": [
    "oe.head()"
   ]
  },
  {
   "cell_type": "code",
   "execution_count": 21,
   "metadata": {},
   "outputs": [
    {
     "data": {
      "text/plain": [
       "<matplotlib.legend.Legend at 0xb13dc18>"
      ]
     },
     "execution_count": 21,
     "metadata": {},
     "output_type": "execute_result"
    },
    {
     "data": {
      "text/plain": [
       "<matplotlib.figure.Figure at 0xa9a3f60>"
      ]
     },
     "metadata": {},
     "output_type": "display_data"
    },
    {
     "data": {
      "image/png": "[encoded data removed]",
      "text/plain": [
       "<matplotlib.figure.Figure at 0xa9a3f28>"
      ]
     },
     "metadata": {},
     "output_type": "display_data"
    }
   ],
   "source": [
    "plt.figure(figsize=(14, 10))\n",
    "\n",
    "plt.figure(figsize=(14, 6))\n",
    "plt.title('Fluid output over time')\n",
    "\n",
    "plt.plot(oe.HOURS, \n",
    "         oe.VALUE.cumsum()/1000, \n",
    "         'ro', markersize=8, label='Output volume, L')\n",
    "\n",
    "plt.xlim(0,72)\n",
    "plt.ylim(0,10)\n",
    "plt.legend()"
   ]
  },
  {
   "cell_type": "markdown",
   "metadata": {},
   "source": [
    "To provide necessary context to this plot, it would help to include patient input data. This provides the necessary context to determine a patient's fluid balance - a key indicator in patient health."
   ]
  },
  {
   "cell_type": "code",
   "execution_count": 22,
   "metadata": {},
   "outputs": [],
   "source": [
    "# OPTION 1: load inputs given to the patient (usually intravenously) using the database connection\n",
    "query = \"\"\"\n",
    "select de.icustay_id\n",
    "  , (strftime('%s',de.starttime)-strftime('%s',ie.intime))/60.0/60.0 as HOURS_START\n",
    "  , (strftime('%s',de.endtime)-strftime('%s',ie.intime))/60.0/60.0 as HOURS_END\n",
    "  , de.linkorderid\n",
    "  , di.label\n",
    "  , de.amount\n",
    "  , de.amountuom\n",
    "  , de.rate\n",
    "  , de.rateuom\n",
    "from inputevents_mv de \n",
    "inner join icustays ie\n",
    "  on de.icustay_id = ie.icustay_id\n",
    "inner join d_items di\n",
    "  on de.itemid = di.itemid\n",
    "where de.subject_id = 40080\n",
    "order by endtime;\n",
    "\"\"\"\n",
    "\n",
    "ie = pd.read_sql_query(query,conn)\n",
    "\n",
    "# # OPTION 2: load ioevents using the CSV file with endtime as the index\n",
    "# ioe = pd.read_csv('inputevents.csv'\n",
    "#                   ,header=None\n",
    "#                   ,names=['subject_id','itemid','label','starttime','endtime','amount','amountuom','rate','rateuom']\n",
    "#                   ,parse_dates=True)"
   ]
  },
  {
   "cell_type": "code",
   "execution_count": 23,
   "metadata": {},
   "outputs": [
    {
     "data": {
      "text/html": [
       "<div>\n",
       "<style scoped>\n",
       "    .dataframe tbody tr th:only-of-type {\n",
       "        vertical-align: middle;\n",
       "    }\n",
       "\n",
       "    .dataframe tbody tr th {\n",
       "        vertical-align: top;\n",
       "    }\n",
       "\n",
       "    .dataframe thead th {\n",
       "        text-align: right;\n",
       "    }\n",
       "</style>\n",
       "<table border=\"1\" class=\"dataframe\">\n",
       "  <thead>\n",
       "    <tr style=\"text-align: right;\">\n",
       "      <th></th>\n",
       "      <th>ICUSTAY_ID</th>\n",
       "      <th>HOURS_START</th>\n",
       "      <th>HOURS_END</th>\n",
       "      <th>LINKORDERID</th>\n",
       "      <th>LABEL</th>\n",
       "      <th>AMOUNT</th>\n",
       "      <th>AMOUNTUOM</th>\n",
       "      <th>RATE</th>\n",
       "      <th>RATEUOM</th>\n",
       "    </tr>\n",
       "  </thead>\n",
       "  <tbody>\n",
       "    <tr>\n",
       "      <th>0</th>\n",
       "      <td>252522</td>\n",
       "      <td>3.270556</td>\n",
       "      <td>3.287222</td>\n",
       "      <td>5635057</td>\n",
       "      <td>Gastric Meds</td>\n",
       "      <td>30.000000</td>\n",
       "      <td>mL</td>\n",
       "      <td>NaN</td>\n",
       "      <td></td>\n",
       "    </tr>\n",
       "    <tr>\n",
       "      <th>1</th>\n",
       "      <td>252522</td>\n",
       "      <td>3.270556</td>\n",
       "      <td>3.287222</td>\n",
       "      <td>279061</td>\n",
       "      <td>Lansoprazole (Prevacid)</td>\n",
       "      <td>1.000000</td>\n",
       "      <td>dose</td>\n",
       "      <td>NaN</td>\n",
       "      <td></td>\n",
       "    </tr>\n",
       "    <tr>\n",
       "      <th>2</th>\n",
       "      <td>252522</td>\n",
       "      <td>0.753889</td>\n",
       "      <td>5.253889</td>\n",
       "      <td>4337240</td>\n",
       "      <td>NaCl 0.9%</td>\n",
       "      <td>45.000001</td>\n",
       "      <td>mL</td>\n",
       "      <td>10.0</td>\n",
       "      <td>mL/hour</td>\n",
       "    </tr>\n",
       "    <tr>\n",
       "      <th>3</th>\n",
       "      <td>252522</td>\n",
       "      <td>7.270556</td>\n",
       "      <td>7.287222</td>\n",
       "      <td>775255</td>\n",
       "      <td>Free Water</td>\n",
       "      <td>300.000000</td>\n",
       "      <td>mL</td>\n",
       "      <td>NaN</td>\n",
       "      <td></td>\n",
       "    </tr>\n",
       "    <tr>\n",
       "      <th>4</th>\n",
       "      <td>252522</td>\n",
       "      <td>3.770556</td>\n",
       "      <td>9.770556</td>\n",
       "      <td>8221764</td>\n",
       "      <td>Nutren 2.0 (Full)</td>\n",
       "      <td>60.000001</td>\n",
       "      <td>mL</td>\n",
       "      <td>10.0</td>\n",
       "      <td>mL/hour</td>\n",
       "    </tr>\n",
       "  </tbody>\n",
       "</table>\n",
       "</div>"
      ],
      "text/plain": [
       "   ICUSTAY_ID  HOURS_START  HOURS_END  LINKORDERID                    LABEL  \\\n",
       "0      252522     3.270556   3.287222      5635057             Gastric Meds   \n",
       "1      252522     3.270556   3.287222       279061  Lansoprazole (Prevacid)   \n",
       "2      252522     0.753889   5.253889      4337240                NaCl 0.9%   \n",
       "3      252522     7.270556   7.287222       775255               Free Water   \n",
       "4      252522     3.770556   9.770556      8221764        Nutren 2.0 (Full)   \n",
       "\n",
       "       AMOUNT AMOUNTUOM  RATE  RATEUOM  \n",
       "0   30.000000        mL   NaN           \n",
       "1    1.000000      dose   NaN           \n",
       "2   45.000001        mL  10.0  mL/hour  \n",
       "3  300.000000        mL   NaN           \n",
       "4   60.000001        mL  10.0  mL/hour  "
      ]
     },
     "execution_count": 23,
     "metadata": {},
     "output_type": "execute_result"
    }
   ],
   "source": [
    "ie.head()"
   ]
  },
  {
   "cell_type": "markdown",
   "metadata": {},
   "source": [
    "Note that the column headers are different: we have \"HOURS_START\" and \"HOURS_END\". This is because inputs are administered over a fixed period of time."
   ]
  },
  {
   "cell_type": "code",
   "execution_count": 24,
   "metadata": {},
   "outputs": [
    {
     "data": {
      "text/plain": [
       "array([u'Gastric Meds', u'Lansoprazole (Prevacid)', u'NaCl 0.9%',\n",
       "       u'Free Water', u'Nutren 2.0 (Full)', u'Furosemide (Lasix)',\n",
       "       u'Dextrose 5%', u'Norepinephrine', u'Insulin - Humalog',\n",
       "       u'Metoprolol', u'Metronidazole', u'PO Intake', u'GT Flush',\n",
       "       u'Morphine Sulfate'], dtype=object)"
      ]
     },
     "execution_count": 24,
     "metadata": {},
     "output_type": "execute_result"
    }
   ],
   "source": [
    "ie['LABEL'].unique()"
   ]
  },
  {
   "cell_type": "code",
   "execution_count": 25,
   "metadata": {},
   "outputs": [
    {
     "data": {
      "text/plain": [
       "<matplotlib.legend.Legend at 0xb2ccc18>"
      ]
     },
     "execution_count": 25,
     "metadata": {},
     "output_type": "execute_result"
    },
    {
     "data": {
      "image/png": "[encoded data removed]",
      "text/plain": [
       "<matplotlib.figure.Figure at 0xb151a20>"
      ]
     },
     "metadata": {},
     "output_type": "display_data"
    }
   ],
   "source": [
    "plt.figure(figsize=(14, 10))\n",
    "\n",
    "# Plot the cumulative input against the cumulative output\n",
    "plt.plot(ie.HOURS_END[ie.AMOUNTUOM=='mL'], \n",
    "         ie.AMOUNT[ie.AMOUNTUOM=='mL'].cumsum()/1000, \n",
    "         'go', markersize=8, label='Intake volume, L')\n",
    "\n",
    "plt.plot(oe.HOURS, \n",
    "         oe.VALUE.cumsum()/1000, \n",
    "         'ro', markersize=8, label='Output volume, L')\n",
    "\n",
    "plt.title('Fluid balance over time',fontsize=16)\n",
    "plt.xlabel('Hours',fontsize=16)\n",
    "plt.ylabel('Volume (litres)',fontsize=16)\n",
    "# plt.ylim(0,38)\n",
    "plt.legend()"
   ]
  },
  {
   "cell_type": "markdown",
   "metadata": {
    "collapsed": true
   },
   "source": [
    "As the plot shows, the patient's intake tends to be above their output (as one would expect!) - but there are periods where they are almost one to one. One of the biggest challenges of working with ICU data is that context is everything - let's look at a treatment (lasix) that we know will affect this graph."
   ]
  },
  {
   "cell_type": "code",
   "execution_count": 26,
   "metadata": {},
   "outputs": [
    {
     "data": {
      "text/plain": [
       "<matplotlib.legend.Legend at 0xb4327b8>"
      ]
     },
     "execution_count": 26,
     "metadata": {},
     "output_type": "execute_result"
    },
    {
     "data": {
      "image/png": "[encoded data removed]",
      "text/plain": [
       "<matplotlib.figure.Figure at 0xb2e8630>"
      ]
     },
     "metadata": {},
     "output_type": "display_data"
    }
   ],
   "source": [
    "plt.figure(figsize=(14, 10))\n",
    "\n",
    "# Plot the cumulative input against the cumulative output\n",
    "plt.plot(ie.HOURS_END[ie.AMOUNTUOM=='mL'], \n",
    "         ie.AMOUNT[ie.AMOUNTUOM=='mL'].cumsum()/1000, \n",
    "         'go', markersize=8, label='Intake volume, L')\n",
    "\n",
    "plt.plot(oe.HOURS, \n",
    "         oe.VALUE.cumsum()/1000, \n",
    "         'ro', markersize=8, label='Output volume, L')\n",
    "\n",
    "# example on getting two columns from a dataframe: ie[['HOURS_START','HOURS_END']].head()\n",
    "\n",
    "for i, idx in enumerate(ie.index[ie.LABEL=='Furosemide (Lasix)']):\n",
    "    plt.plot([ie.HOURS_START[ie.LABEL=='Furosemide (Lasix)'][idx],\n",
    "             ie.HOURS_END[ie.LABEL=='Furosemide (Lasix)'][idx]],\n",
    "            [ie.RATE[ie.LABEL=='Furosemide (Lasix)'][idx],\n",
    "             ie.RATE[ie.LABEL=='Furosemide (Lasix)'][idx]],\n",
    "            'b-',linewidth=4)\n",
    "    \n",
    "\n",
    "plt.title('Fluid balance over time',fontsize=16)\n",
    "plt.xlabel('Hours',fontsize=16)\n",
    "plt.ylabel('Volume (litres)',fontsize=16)\n",
    "# plt.ylim(0,38)\n",
    "plt.legend()\n"
   ]
  },
  {
   "cell_type": "code",
   "execution_count": 27,
   "metadata": {},
   "outputs": [
    {
     "data": {
      "text/plain": [
       "array([u'Gastric Meds', u'Lansoprazole (Prevacid)', u'NaCl 0.9%',\n",
       "       u'Free Water', u'Nutren 2.0 (Full)', u'Furosemide (Lasix)',\n",
       "       u'Dextrose 5%', u'Norepinephrine', u'Insulin - Humalog',\n",
       "       u'Metoprolol', u'Metronidazole', u'PO Intake', u'GT Flush',\n",
       "       u'Morphine Sulfate'], dtype=object)"
      ]
     },
     "execution_count": 27,
     "metadata": {},
     "output_type": "execute_result"
    }
   ],
   "source": [
    "ie['LABEL'].unique()"
   ]
  },
  {
   "cell_type": "markdown",
   "metadata": {},
   "source": [
    "### Exercise 2\n",
    "\n",
    "* Plot the alarms for the mean arterial pressure ('```Arterial Blood Pressure mean```')\n",
    "* HINT: you can use ```ce.LABEL.unique()``` to find a list of variable names\n",
    "* Were the alarm thresholds breached?"
   ]
  },
  {
   "cell_type": "code",
   "execution_count": 28,
   "metadata": {},
   "outputs": [],
   "source": [
    "# Exercise 2 here\n",
    "\n",
    "\n"
   ]
  },
  {
   "cell_type": "markdown",
   "metadata": {},
   "source": [
    "### Plot 3: Were the patient's other vital signs stable?"
   ]
  },
  {
   "cell_type": "code",
   "execution_count": 29,
   "metadata": {},
   "outputs": [
    {
     "data": {
      "text/plain": [
       "<matplotlib.legend.Legend at 0xac820f0>"
      ]
     },
     "execution_count": 29,
     "metadata": {},
     "output_type": "execute_result"
    },
    {
     "data": {
      "image/png": "[encoded data removed]",
      "text/plain": [
       "<matplotlib.figure.Figure at 0xb3c3780>"
      ]
     },
     "metadata": {},
     "output_type": "display_data"
    }
   ],
   "source": [
    "plt.figure(figsize=(14, 10))\n",
    "\n",
    "plt.plot(ce.index[ce.LABEL=='Heart Rate'], \n",
    "         ce.VALUENUM[ce.LABEL=='Heart Rate'],\n",
    "         'rx', markersize=8, label='HR')\n",
    "\n",
    "plt.plot(ce.index[ce.LABEL=='O2 saturation pulseoxymetry'], \n",
    "         ce.VALUENUM[ce.LABEL=='O2 saturation pulseoxymetry'], \n",
    "         'g.', markersize=8, label='O2')\n",
    "\n",
    "plt.plot(ce.index[ce.LABEL=='Non Invasive Blood Pressure mean'], \n",
    "         ce.VALUENUM[ce.LABEL=='Non Invasive Blood Pressure mean'], \n",
    "         'bv', markersize=8, label='MAP')\n",
    "\n",
    "plt.plot(ce.index[ce.LABEL=='Respiratory Rate'], \n",
    "         ce.VALUENUM[ce.LABEL=='Respiratory Rate'], \n",
    "         'k+', markersize=8, label='RR')\n",
    "\n",
    "plt.title('Vital signs over time from admission')\n",
    "plt.ylim(0,130)\n",
    "plt.legend()"
   ]
  },
  {
   "cell_type": "markdown",
   "metadata": {},
   "source": [
    "### Plot 5: Laboratory measurements"
   ]
  },
  {
   "cell_type": "markdown",
   "metadata": {},
   "source": [
    "Using Pandas 'read_csv function' again, we'll now load the labevents data.\n",
    "This data corresponds to measurements made in a laboratory - usually on a sample of patient blood. "
   ]
  },
  {
   "cell_type": "code",
   "execution_count": 30,
   "metadata": {},
   "outputs": [],
   "source": [
    "# OPTION 1: load labevents data using the database connection\n",
    "query = \"\"\"\n",
    "SELECT de.subject_id\n",
    "  , de.charttime\n",
    "  , di.label, de.value, de.valuenum\n",
    "  , de.uom\n",
    "FROM labevents de\n",
    "INNER JOIN d_labitems di\n",
    "  ON de.itemid = di.itemid\n",
    "where de.subject_id = 40080\n",
    "\"\"\"\n",
    "\n",
    "le = pd.read_sql_query(query,conn)\n",
    "\n",
    "# OPTION 2: load labevents from the CSV file\n",
    "# le = pd.read_csv('data/example_labevents.csv', index_col='HOURSSINCEADMISSION')"
   ]
  },
  {
   "cell_type": "code",
   "execution_count": 31,
   "metadata": {},
   "outputs": [
    {
     "data": {
      "text/html": [
       "<div>\n",
       "<style scoped>\n",
       "    .dataframe tbody tr th:only-of-type {\n",
       "        vertical-align: middle;\n",
       "    }\n",
       "\n",
       "    .dataframe tbody tr th {\n",
       "        vertical-align: top;\n",
       "    }\n",
       "\n",
       "    .dataframe thead th {\n",
       "        text-align: right;\n",
       "    }\n",
       "</style>\n",
       "<table border=\"1\" class=\"dataframe\">\n",
       "  <thead>\n",
       "    <tr style=\"text-align: right;\">\n",
       "      <th></th>\n",
       "      <th>SUBJECT_ID</th>\n",
       "      <th>CHARTTIME</th>\n",
       "      <th>LABEL</th>\n",
       "      <th>VALUE</th>\n",
       "      <th>VALUENUM</th>\n",
       "      <th>UOM</th>\n",
       "    </tr>\n",
       "  </thead>\n",
       "  <tbody>\n",
       "    <tr>\n",
       "      <th>0</th>\n",
       "      <td>40080</td>\n",
       "      <td>2106-05-31 13:18:00</td>\n",
       "      <td>ALANINE AMINOTRANSFERASE (ALT)</td>\n",
       "      <td>10</td>\n",
       "      <td>10.0</td>\n",
       "      <td>IU/L</td>\n",
       "    </tr>\n",
       "    <tr>\n",
       "      <th>1</th>\n",
       "      <td>40080</td>\n",
       "      <td>2106-05-31 13:18:00</td>\n",
       "      <td>ALBUMIN</td>\n",
       "      <td>2.5</td>\n",
       "      <td>2.5</td>\n",
       "      <td>g/dL</td>\n",
       "    </tr>\n",
       "    <tr>\n",
       "      <th>2</th>\n",
       "      <td>40080</td>\n",
       "      <td>2106-05-31 13:18:00</td>\n",
       "      <td>ALKALINE PHOSPHATASE</td>\n",
       "      <td>126</td>\n",
       "      <td>126.0</td>\n",
       "      <td>IU/L</td>\n",
       "    </tr>\n",
       "    <tr>\n",
       "      <th>3</th>\n",
       "      <td>40080</td>\n",
       "      <td>2106-05-31 13:18:00</td>\n",
       "      <td>ANION GAP</td>\n",
       "      <td>12</td>\n",
       "      <td>12.0</td>\n",
       "      <td>mEq/L</td>\n",
       "    </tr>\n",
       "    <tr>\n",
       "      <th>4</th>\n",
       "      <td>40080</td>\n",
       "      <td>2106-05-31 13:18:00</td>\n",
       "      <td>ASPARATE AMINOTRANSFERASE (AST)</td>\n",
       "      <td>28</td>\n",
       "      <td>28.0</td>\n",
       "      <td>IU/L</td>\n",
       "    </tr>\n",
       "  </tbody>\n",
       "</table>\n",
       "</div>"
      ],
      "text/plain": [
       "   SUBJECT_ID            CHARTTIME                            LABEL VALUE  \\\n",
       "0       40080  2106-05-31 13:18:00   ALANINE AMINOTRANSFERASE (ALT)    10   \n",
       "1       40080  2106-05-31 13:18:00                          ALBUMIN   2.5   \n",
       "2       40080  2106-05-31 13:18:00             ALKALINE PHOSPHATASE   126   \n",
       "3       40080  2106-05-31 13:18:00                        ANION GAP    12   \n",
       "4       40080  2106-05-31 13:18:00  ASPARATE AMINOTRANSFERASE (AST)    28   \n",
       "\n",
       "   VALUENUM    UOM  \n",
       "0      10.0   IU/L  \n",
       "1       2.5   g/dL  \n",
       "2     126.0   IU/L  \n",
       "3      12.0  mEq/L  \n",
       "4      28.0   IU/L  "
      ]
     },
     "execution_count": 31,
     "metadata": {},
     "output_type": "execute_result"
    }
   ],
   "source": [
    "# preview the labevents data\n",
    "le.head()"
   ]
  },
  {
   "cell_type": "code",
   "execution_count": 32,
   "metadata": {},
   "outputs": [
    {
     "data": {
      "text/html": [
       "<div>\n",
       "<style scoped>\n",
       "    .dataframe tbody tr th:only-of-type {\n",
       "        vertical-align: middle;\n",
       "    }\n",
       "\n",
       "    .dataframe tbody tr th {\n",
       "        vertical-align: top;\n",
       "    }\n",
       "\n",
       "    .dataframe thead th {\n",
       "        text-align: right;\n",
       "    }\n",
       "</style>\n",
       "<table border=\"1\" class=\"dataframe\">\n",
       "  <thead>\n",
       "    <tr style=\"text-align: right;\">\n",
       "      <th></th>\n",
       "      <th>SUBJECT_ID</th>\n",
       "      <th>CHARTTIME</th>\n",
       "      <th>LABEL</th>\n",
       "      <th>VALUE</th>\n",
       "      <th>VALUENUM</th>\n",
       "      <th>UOM</th>\n",
       "    </tr>\n",
       "  </thead>\n",
       "  <tbody>\n",
       "    <tr>\n",
       "      <th>23</th>\n",
       "      <td>40080</td>\n",
       "      <td>2106-05-31 13:18:00</td>\n",
       "      <td>HEMOGLOBIN</td>\n",
       "      <td>9.1</td>\n",
       "      <td>9.1</td>\n",
       "      <td>g/dL</td>\n",
       "    </tr>\n",
       "    <tr>\n",
       "      <th>40</th>\n",
       "      <td>40080</td>\n",
       "      <td>2106-06-02 03:31:00</td>\n",
       "      <td>HEMOGLOBIN</td>\n",
       "      <td>8.8</td>\n",
       "      <td>8.8</td>\n",
       "      <td>g/dL</td>\n",
       "    </tr>\n",
       "    <tr>\n",
       "      <th>71</th>\n",
       "      <td>40080</td>\n",
       "      <td>2106-06-03 03:36:00</td>\n",
       "      <td>HEMOGLOBIN</td>\n",
       "      <td>8.2</td>\n",
       "      <td>8.2</td>\n",
       "      <td>g/dL</td>\n",
       "    </tr>\n",
       "    <tr>\n",
       "      <th>105</th>\n",
       "      <td>40080</td>\n",
       "      <td>2106-06-04 03:43:00</td>\n",
       "      <td>HEMOGLOBIN</td>\n",
       "      <td>8.2</td>\n",
       "      <td>8.2</td>\n",
       "      <td>g/dL</td>\n",
       "    </tr>\n",
       "    <tr>\n",
       "      <th>150</th>\n",
       "      <td>40080</td>\n",
       "      <td>2106-06-01 03:38:00</td>\n",
       "      <td>HEMOGLOBIN</td>\n",
       "      <td>8.3</td>\n",
       "      <td>8.3</td>\n",
       "      <td>g/dL</td>\n",
       "    </tr>\n",
       "    <tr>\n",
       "      <th>214</th>\n",
       "      <td>40080</td>\n",
       "      <td>2106-06-05 04:57:00</td>\n",
       "      <td>HEMOGLOBIN</td>\n",
       "      <td>8.5</td>\n",
       "      <td>8.5</td>\n",
       "      <td>g/dL</td>\n",
       "    </tr>\n",
       "  </tbody>\n",
       "</table>\n",
       "</div>"
      ],
      "text/plain": [
       "     SUBJECT_ID            CHARTTIME       LABEL VALUE  VALUENUM   UOM\n",
       "23        40080  2106-05-31 13:18:00  HEMOGLOBIN   9.1       9.1  g/dL\n",
       "40        40080  2106-06-02 03:31:00  HEMOGLOBIN   8.8       8.8  g/dL\n",
       "71        40080  2106-06-03 03:36:00  HEMOGLOBIN   8.2       8.2  g/dL\n",
       "105       40080  2106-06-04 03:43:00  HEMOGLOBIN   8.2       8.2  g/dL\n",
       "150       40080  2106-06-01 03:38:00  HEMOGLOBIN   8.3       8.3  g/dL\n",
       "214       40080  2106-06-05 04:57:00  HEMOGLOBIN   8.5       8.5  g/dL"
      ]
     },
     "execution_count": 32,
     "metadata": {},
     "output_type": "execute_result"
    }
   ],
   "source": [
    "# preview the ioevents data\n",
    "le[le.LABEL=='HEMOGLOBIN']"
   ]
  },
  {
   "cell_type": "code",
   "execution_count": 33,
   "metadata": {},
   "outputs": [
    {
     "data": {
      "text/plain": [
       "<matplotlib.legend.Legend at 0xb174f28>"
      ]
     },
     "execution_count": 33,
     "metadata": {},
     "output_type": "execute_result"
    },
    {
     "data": {
      "image/png": "[encoded data removed]",
      "text/plain": [
       "<matplotlib.figure.Figure at 0xac8b8d0>"
      ]
     },
     "metadata": {},
     "output_type": "display_data"
    }
   ],
   "source": [
    "plt.figure(figsize=(14, 10))\n",
    "\n",
    "plt.plot(le.index[le.LABEL=='HEMATOCRIT'], \n",
    "         le.VALUENUM[le.LABEL=='HEMATOCRIT'], \n",
    "         'go', markersize=6, label='Haematocrit')\n",
    "\n",
    "plt.plot(le.index[le.LABEL=='HEMOGLOBIN'], \n",
    "         le.VALUENUM[le.LABEL=='HEMOGLOBIN'], \n",
    "         'bv', markersize=8, label='Hemoglobin')\n",
    "\n",
    "plt.title('Laboratory measurements over time from admission')\n",
    "plt.ylim(0,38)\n",
    "plt.legend()"
   ]
  },
  {
   "cell_type": "markdown",
   "metadata": {},
   "source": [
    "# Prediction model"
   ]
  },
  {
   "cell_type": "code",
   "execution_count": 293,
   "metadata": {},
   "outputs": [
    {
     "data": {
      "text/plain": [
       "729"
      ]
     },
     "execution_count": 293,
     "metadata": {},
     "output_type": "execute_result"
    }
   ],
   "source": [
    "query = \"\"\"\n",
    "\n",
    "with t1 as -- all time steps\n",
    "(\n",
    "\n",
    "SELECT distinct de.subject_id\n",
    "  , round((strftime('%s',de.charttime)-strftime('%s',ie.intime))/60.0/120.0) as HOURS\n",
    "FROM chartevents de\n",
    "INNER join icustays ie\n",
    "ON de.subject_id = ie.subject_id\n",
    "order by de.subject_id, charttime\n",
    "\n",
    "), t2 as  -- po2\n",
    "(\n",
    "SELECT de.subject_id\n",
    "  --, de.charttime\n",
    "  , round((strftime('%s',de.charttime)-strftime('%s',ie.intime))/60.0/120.0+1) as HOURS\n",
    " -- , di.label, de.value\n",
    "  ,de.valuenum as po2\n",
    "  --, de.uom\n",
    "FROM labevents de\n",
    "INNER JOIN d_labitems di\n",
    "  ON de.itemid = di.itemid\n",
    "INNER join icustays ie\n",
    "ON de.subject_id = ie.subject_id\n",
    "where label = 'PO2'\n",
    "order by de.subject_id, hours\n",
    "\n",
    "), t3 as  -- spo2\n",
    "(\n",
    "with t1 as\n",
    "(SELECT de.subject_id\n",
    "  , round((strftime('%s',de.charttime)-strftime('%s',ie.intime))/60.0/120.0+1) as HOURS\n",
    "  , de.valuenum\n",
    "FROM chartevents de\n",
    "INNER join d_items di\n",
    "ON de.itemid = di.itemid\n",
    "INNER join icustays ie\n",
    "ON de.subject_id = ie.subject_id\n",
    "WHERE label = 'O2 saturation pulseoxymetry'\n",
    "ORDER BY charttime)\n",
    "select subject_id, hours, avg(valuenum) as spo2\n",
    "from t1\n",
    "group by subject_id, hours\n",
    "order by subject_id, hours\n",
    "), t4 as -- map\n",
    "(\n",
    "with t1 as\n",
    "(SELECT de.subject_id\n",
    "  , round((strftime('%s',de.charttime)-strftime('%s',ie.intime))/60.0/120.0+1) as HOURS\n",
    "  , de.valuenum\n",
    "FROM chartevents de\n",
    "INNER join d_items di\n",
    "ON de.itemid = di.itemid\n",
    "INNER join icustays ie\n",
    "ON de.icustay_id = ie.icustay_id\n",
    "WHERE label = 'Non Invasive Blood Pressure mean'\n",
    "ORDER BY charttime)\n",
    "select subject_id, hours, avg(valuenum) as map\n",
    "from t1\n",
    "group by subject_id, hours\n",
    "order by subject_id, hours\n",
    "\n",
    ")\n",
    "\n",
    "select t1.*, t2.po2 as po2,t4.map as map, t3.spo2 as spo2\n",
    "from t1, t2, t3, t4\n",
    "where t1.subject_id=t2.subject_id and t1.subject_id=t3.subject_id   and t1.subject_id=t4.subject_id   and t4.hours>=t1.hours-2 and t4.hours<=t1.hours+2  and t2.hours>=t1.hours-2  and t2.hours<=t1.hours+2 and t1.hours=t3.hours\"\"\"\n",
    "    \n",
    "uo = pd.read_sql_query(query,conn)\n",
    "\n",
    "\n",
    "\n",
    "\n",
    "X=uo.drop('subject_id', axis = 1)\n",
    "X=X.drop('HOURS',axis=1)\n",
    "Y=uo.spo2\n",
    "#X=uo.po2\n",
    "#drop('intake',axis=1)  \n",
    "feature_list = list(X.columns)\n",
    "uo.head()\n",
    "len(uo)\n",
    "    "
   ]
  },
  {
   "cell_type": "code",
   "execution_count": 296,
   "metadata": {},
   "outputs": [
    {
     "name": "stdout",
     "output_type": "stream",
     "text": [
      "('Training Features Shape:', (583, 3))\n",
      "('Training Labels Shape:', (583L,))\n",
      "('Testing Features Shape:', (146, 3))\n",
      "('Testing Labels Shape:', (146L,))\n",
      "('Mean Absolute Error:', 0.42, 'mL of intake')\n",
      "('Accuracy:', 99.56, '%.')\n"
     ]
    }
   ],
   "source": [
    "from sklearn.ensemble import RandomForestClassifier\n",
    "from sklearn.linear_model import LogisticRegression\n",
    "from sklearn.metrics import roc_auc_score\n",
    "from sklearn.neighbors  import KNeighborsClassifier\n",
    "from sklearn.metrics import confusion_matrix\n",
    "from matplotlib import pyplot as plt\n",
    "import matplotlib\n",
    "\n",
    "\n",
    "# Using Skicit-learn to split data into training and testing sets\n",
    "from sklearn.model_selection import train_test_split\n",
    "# Split the data into training and testing sets\n",
    "Xtrain, Xtest, Ytrain , Ytest = train_test_split(X,Y, test_size = 0.2, random_state = 1)\n",
    "\n",
    "print('Training Features Shape:', Xtrain.shape)\n",
    "print('Training Labels Shape:', Ytrain.shape)\n",
    "print('Testing Features Shape:', Xtest.shape)\n",
    "print('Testing Labels Shape:', Ytest.shape)\n",
    "\n",
    "#Xtest.head()\n",
    "\n",
    "clf = LogisticRegression()\n",
    "clf.fit(Xtrain,Ytrain.astype('int'))\n",
    "\n",
    "# Use the forest's predict method on the test data\n",
    "predictions = clf.predict(Xtest)\n",
    "# Calculate the absolute errors\n",
    "#roc=roc_auc_score(Ytest, predictions)\n",
    "#print roc\n",
    "\n",
    "clf = KNeighborsClassifier()\n",
    "clf.fit(Xtrain,Ytrain.astype('int'))\n",
    "\n",
    "# Use the forest's predict method on the test data\n",
    "predictions = clf.predict(Xtest)\n",
    "# Calculate the absolute errors\n",
    "#roc=roc_auc_score(Ytest, predictions)\n",
    "#print roc\n",
    "\n",
    "rf = RandomForestClassifier()#n_estimators=100, oob_score=True,n_jobs=5, random_state=0)\n",
    "rf.fit(Xtrain,Ytrain.astype('int'))\n",
    "\n",
    "# Use the forest's predict method on the test data\n",
    "predictions = rf.predict(Xtest)\n",
    "# Calculate the absolute errors\n",
    "#roc=roc_auc_score(Ytest, predictions)\n",
    "#print roc\n",
    "\n",
    "\n",
    "\n",
    "errors = abs(predictions - Ytest)\n",
    "print('Mean Absolute Error:', round(np.mean(errors), 2), 'mL of intake')\n",
    "\n",
    "# Calculate mean absolute percentage error (MAPE)\n",
    "mape = 100 * (errors / Ytest)\n",
    "#print mape\n",
    "mape[mape>1E4]=0\n",
    "#mape[mape<-1E3]=0\n",
    "# Calculate and display accuracy\n",
    "accuracy = 100 - np.mean(mape)\n",
    "#print mape\n",
    "print('Accuracy:', round(accuracy, 2), '%.')\n",
    "\n",
    "\n",
    "#confusion_matrix(Ytest, predictions)"
   ]
  },
  {
   "cell_type": "code",
   "execution_count": 302,
   "metadata": {},
   "outputs": [
    {
     "data": {
      "image/png": "[encoded data removed]",
      "text/plain": [
       "<matplotlib.figure.Figure at 0x128a4780>"
      ]
     },
     "metadata": {},
     "output_type": "display_data"
    }
   ],
   "source": [
    "plt.scatter(Xtest.po2, Ytest, c=\"g\", alpha=0.5, label=\"True test data\")\n",
    "plt.scatter(Xtest.po2, predictions, c=\"r\", alpha=0.5, label=\"Predicted data\")\n",
    "\n",
    "plt.xlabel(\"pO2\")\n",
    "plt.ylabel(\"spO2\")\n",
    "plt.legend(loc=4)\n",
    "plt.show()"
   ]
  },
  {
   "cell_type": "code",
   "execution_count": 279,
   "metadata": {},
   "outputs": [
    {
     "data": {
      "text/html": [
       "<div>\n",
       "<style scoped>\n",
       "    .dataframe tbody tr th:only-of-type {\n",
       "        vertical-align: middle;\n",
       "    }\n",
       "\n",
       "    .dataframe tbody tr th {\n",
       "        vertical-align: top;\n",
       "    }\n",
       "\n",
       "    .dataframe thead th {\n",
       "        text-align: right;\n",
       "    }\n",
       "</style>\n",
       "<table border=\"1\" class=\"dataframe\">\n",
       "  <thead>\n",
       "    <tr style=\"text-align: right;\">\n",
       "      <th></th>\n",
       "      <th>gender</th>\n",
       "      <th>age</th>\n",
       "      <th>elixhauser</th>\n",
       "      <th>GCS</th>\n",
       "      <th>HR</th>\n",
       "      <th>MeanBP</th>\n",
       "      <th>RR</th>\n",
       "      <th>FiO2_1</th>\n",
       "      <th>Potassium</th>\n",
       "      <th>Sodium</th>\n",
       "      <th>...</th>\n",
       "      <th>Hb</th>\n",
       "      <th>Platelets_count</th>\n",
       "      <th>Arterial_pH</th>\n",
       "      <th>paO2</th>\n",
       "      <th>Arterial_BE</th>\n",
       "      <th>Arterial_lactate</th>\n",
       "      <th>mechvent</th>\n",
       "      <th>Shock_Index</th>\n",
       "      <th>cumulated_balance_tev</th>\n",
       "      <th>SOFA</th>\n",
       "    </tr>\n",
       "  </thead>\n",
       "  <tbody>\n",
       "    <tr>\n",
       "      <th>0</th>\n",
       "      <td>0</td>\n",
       "      <td>30946</td>\n",
       "      <td>2.0</td>\n",
       "      <td>3</td>\n",
       "      <td>67.071429</td>\n",
       "      <td>77.357165</td>\n",
       "      <td>10.285714</td>\n",
       "      <td>0.400000</td>\n",
       "      <td>4.200000</td>\n",
       "      <td>144.000000</td>\n",
       "      <td>...</td>\n",
       "      <td>11.700000</td>\n",
       "      <td>130.000000</td>\n",
       "      <td>7.450000</td>\n",
       "      <td>179.00</td>\n",
       "      <td>0.000000</td>\n",
       "      <td>0.9</td>\n",
       "      <td>1</td>\n",
       "      <td>0.570474</td>\n",
       "      <td>960.0000</td>\n",
       "      <td>5</td>\n",
       "    </tr>\n",
       "    <tr>\n",
       "      <th>1</th>\n",
       "      <td>0</td>\n",
       "      <td>11203</td>\n",
       "      <td>2.0</td>\n",
       "      <td>15</td>\n",
       "      <td>118.000000</td>\n",
       "      <td>83.000000</td>\n",
       "      <td>33.000000</td>\n",
       "      <td>0.409214</td>\n",
       "      <td>3.400000</td>\n",
       "      <td>132.000000</td>\n",
       "      <td>...</td>\n",
       "      <td>10.900000</td>\n",
       "      <td>154.000000</td>\n",
       "      <td>7.489500</td>\n",
       "      <td>200.65</td>\n",
       "      <td>7.050000</td>\n",
       "      <td>2.0</td>\n",
       "      <td>0</td>\n",
       "      <td>0.936508</td>\n",
       "      <td>800.0000</td>\n",
       "      <td>4</td>\n",
       "    </tr>\n",
       "    <tr>\n",
       "      <th>2</th>\n",
       "      <td>0</td>\n",
       "      <td>31032</td>\n",
       "      <td>3.0</td>\n",
       "      <td>13</td>\n",
       "      <td>84.000000</td>\n",
       "      <td>120.000000</td>\n",
       "      <td>12.000000</td>\n",
       "      <td>0.571680</td>\n",
       "      <td>5.266667</td>\n",
       "      <td>136.000000</td>\n",
       "      <td>...</td>\n",
       "      <td>11.200000</td>\n",
       "      <td>265.000000</td>\n",
       "      <td>7.484000</td>\n",
       "      <td>130.80</td>\n",
       "      <td>7.600000</td>\n",
       "      <td>2.9</td>\n",
       "      <td>0</td>\n",
       "      <td>0.407767</td>\n",
       "      <td>0.0000</td>\n",
       "      <td>7</td>\n",
       "    </tr>\n",
       "    <tr>\n",
       "      <th>3</th>\n",
       "      <td>0</td>\n",
       "      <td>13540</td>\n",
       "      <td>5.0</td>\n",
       "      <td>3</td>\n",
       "      <td>89.000000</td>\n",
       "      <td>74.000000</td>\n",
       "      <td>9.000000</td>\n",
       "      <td>1.000000</td>\n",
       "      <td>4.800000</td>\n",
       "      <td>139.333333</td>\n",
       "      <td>...</td>\n",
       "      <td>13.100000</td>\n",
       "      <td>189.000000</td>\n",
       "      <td>7.253333</td>\n",
       "      <td>261.00</td>\n",
       "      <td>-2.666667</td>\n",
       "      <td>1.6</td>\n",
       "      <td>1</td>\n",
       "      <td>0.872549</td>\n",
       "      <td>0.0000</td>\n",
       "      <td>12</td>\n",
       "    </tr>\n",
       "    <tr>\n",
       "      <th>4</th>\n",
       "      <td>1</td>\n",
       "      <td>30550</td>\n",
       "      <td>3.0</td>\n",
       "      <td>15</td>\n",
       "      <td>77.607143</td>\n",
       "      <td>67.928571</td>\n",
       "      <td>22.107143</td>\n",
       "      <td>0.500000</td>\n",
       "      <td>4.800000</td>\n",
       "      <td>132.000000</td>\n",
       "      <td>...</td>\n",
       "      <td>11.357143</td>\n",
       "      <td>138.071429</td>\n",
       "      <td>7.330000</td>\n",
       "      <td>114.00</td>\n",
       "      <td>-9.000000</td>\n",
       "      <td>2.1</td>\n",
       "      <td>1</td>\n",
       "      <td>0.809010</td>\n",
       "      <td>-366.6362</td>\n",
       "      <td>9</td>\n",
       "    </tr>\n",
       "  </tbody>\n",
       "</table>\n",
       "<p>5 rows × 22 columns</p>\n",
       "</div>"
      ],
      "text/plain": [
       "   gender    age  elixhauser  GCS          HR      MeanBP         RR  \\\n",
       "0       0  30946         2.0    3   67.071429   77.357165  10.285714   \n",
       "1       0  11203         2.0   15  118.000000   83.000000  33.000000   \n",
       "2       0  31032         3.0   13   84.000000  120.000000  12.000000   \n",
       "3       0  13540         5.0    3   89.000000   74.000000   9.000000   \n",
       "4       1  30550         3.0   15   77.607143   67.928571  22.107143   \n",
       "\n",
       "     FiO2_1  Potassium      Sodium  ...          Hb  Platelets_count  \\\n",
       "0  0.400000   4.200000  144.000000  ...   11.700000       130.000000   \n",
       "1  0.409214   3.400000  132.000000  ...   10.900000       154.000000   \n",
       "2  0.571680   5.266667  136.000000  ...   11.200000       265.000000   \n",
       "3  1.000000   4.800000  139.333333  ...   13.100000       189.000000   \n",
       "4  0.500000   4.800000  132.000000  ...   11.357143       138.071429   \n",
       "\n",
       "   Arterial_pH    paO2  Arterial_BE  Arterial_lactate  mechvent  Shock_Index  \\\n",
       "0     7.450000  179.00     0.000000               0.9         1     0.570474   \n",
       "1     7.489500  200.65     7.050000               2.0         0     0.936508   \n",
       "2     7.484000  130.80     7.600000               2.9         0     0.407767   \n",
       "3     7.253333  261.00    -2.666667               1.6         1     0.872549   \n",
       "4     7.330000  114.00    -9.000000               2.1         1     0.809010   \n",
       "\n",
       "   cumulated_balance_tev  SOFA  \n",
       "0               960.0000     5  \n",
       "1               800.0000     4  \n",
       "2                 0.0000     7  \n",
       "3                 0.0000    12  \n",
       "4              -366.6362     9  \n",
       "\n",
       "[5 rows x 22 columns]"
      ]
     },
     "execution_count": 279,
     "metadata": {},
     "output_type": "execute_result"
    }
   ],
   "source": [
    "ce = pd.read_csv('C:/Users/mk5414/desktop/demo_tmu.csv')\n",
    "\n",
    "X=ce\n",
    "Y=X.mortality_90d\n",
    "X=ce.drop('mortality_90d', axis = 1)\n",
    "feature_list = list(X.columns)\n",
    "X.head()\n",
    "#print(len(X))"
   ]
  },
  {
   "cell_type": "code",
   "execution_count": 290,
   "metadata": {},
   "outputs": [
    {
     "name": "stdout",
     "output_type": "stream",
     "text": [
      "('Training Features Shape:', (24, 3))\n",
      "('Training Labels Shape:', (24L,))\n",
      "('Testing Features Shape:', (7, 3))\n",
      "('Testing Labels Shape:', (7L,))\n"
     ]
    },
    {
     "ename": "ValueError",
     "evalue": "continuous format is not supported",
     "output_type": "error",
     "traceback": [
      "\u001b[1;31m---------------------------------------------------------------------------\u001b[0m",
      "\u001b[1;31mValueError\u001b[0m                                Traceback (most recent call last)",
      "\u001b[1;32m<ipython-input-290-94789d48e7f5>\u001b[0m in \u001b[0;36m<module>\u001b[1;34m()\u001b[0m\n\u001b[0;32m     24\u001b[0m \u001b[0mpredictions\u001b[0m \u001b[1;33m=\u001b[0m \u001b[0mclf\u001b[0m\u001b[1;33m.\u001b[0m\u001b[0mpredict\u001b[0m\u001b[1;33m(\u001b[0m\u001b[0mXtest\u001b[0m\u001b[1;33m)\u001b[0m\u001b[1;33m\u001b[0m\u001b[0m\n\u001b[0;32m     25\u001b[0m \u001b[1;31m# Calculate the absolute errors\u001b[0m\u001b[1;33m\u001b[0m\u001b[1;33m\u001b[0m\u001b[0m\n\u001b[1;32m---> 26\u001b[1;33m \u001b[0mroc\u001b[0m\u001b[1;33m=\u001b[0m\u001b[0mroc_auc_score\u001b[0m\u001b[1;33m(\u001b[0m\u001b[0mYtest\u001b[0m\u001b[1;33m,\u001b[0m \u001b[0mpredictions\u001b[0m\u001b[1;33m)\u001b[0m\u001b[1;33m\u001b[0m\u001b[0m\n\u001b[0m\u001b[0;32m     27\u001b[0m \u001b[1;32mprint\u001b[0m \u001b[0mroc\u001b[0m\u001b[1;33m\u001b[0m\u001b[0m\n\u001b[0;32m     28\u001b[0m \u001b[1;33m\u001b[0m\u001b[0m\n",
      "\u001b[1;32mD:\\Software\\Anaconda\\lib\\site-packages\\sklearn\\metrics\\ranking.py\u001b[0m in \u001b[0;36mroc_auc_score\u001b[1;34m(y_true, y_score, average, sample_weight)\u001b[0m\n\u001b[0;32m    275\u001b[0m     return _average_binary_score(\n\u001b[0;32m    276\u001b[0m         \u001b[0m_binary_roc_auc_score\u001b[0m\u001b[1;33m,\u001b[0m \u001b[0my_true\u001b[0m\u001b[1;33m,\u001b[0m \u001b[0my_score\u001b[0m\u001b[1;33m,\u001b[0m \u001b[0maverage\u001b[0m\u001b[1;33m,\u001b[0m\u001b[1;33m\u001b[0m\u001b[0m\n\u001b[1;32m--> 277\u001b[1;33m         sample_weight=sample_weight)\n\u001b[0m\u001b[0;32m    278\u001b[0m \u001b[1;33m\u001b[0m\u001b[0m\n\u001b[0;32m    279\u001b[0m \u001b[1;33m\u001b[0m\u001b[0m\n",
      "\u001b[1;32mD:\\Software\\Anaconda\\lib\\site-packages\\sklearn\\metrics\\base.py\u001b[0m in \u001b[0;36m_average_binary_score\u001b[1;34m(binary_metric, y_true, y_score, average, sample_weight)\u001b[0m\n\u001b[0;32m     70\u001b[0m     \u001b[0my_type\u001b[0m \u001b[1;33m=\u001b[0m \u001b[0mtype_of_target\u001b[0m\u001b[1;33m(\u001b[0m\u001b[0my_true\u001b[0m\u001b[1;33m)\u001b[0m\u001b[1;33m\u001b[0m\u001b[0m\n\u001b[0;32m     71\u001b[0m     \u001b[1;32mif\u001b[0m \u001b[0my_type\u001b[0m \u001b[1;32mnot\u001b[0m \u001b[1;32min\u001b[0m \u001b[1;33m(\u001b[0m\u001b[1;34m\"binary\"\u001b[0m\u001b[1;33m,\u001b[0m \u001b[1;34m\"multilabel-indicator\"\u001b[0m\u001b[1;33m)\u001b[0m\u001b[1;33m:\u001b[0m\u001b[1;33m\u001b[0m\u001b[0m\n\u001b[1;32m---> 72\u001b[1;33m         \u001b[1;32mraise\u001b[0m \u001b[0mValueError\u001b[0m\u001b[1;33m(\u001b[0m\u001b[1;34m\"{0} format is not supported\"\u001b[0m\u001b[1;33m.\u001b[0m\u001b[0mformat\u001b[0m\u001b[1;33m(\u001b[0m\u001b[0my_type\u001b[0m\u001b[1;33m)\u001b[0m\u001b[1;33m)\u001b[0m\u001b[1;33m\u001b[0m\u001b[0m\n\u001b[0m\u001b[0;32m     73\u001b[0m \u001b[1;33m\u001b[0m\u001b[0m\n\u001b[0;32m     74\u001b[0m     \u001b[1;32mif\u001b[0m \u001b[0my_type\u001b[0m \u001b[1;33m==\u001b[0m \u001b[1;34m\"binary\"\u001b[0m\u001b[1;33m:\u001b[0m\u001b[1;33m\u001b[0m\u001b[0m\n",
      "\u001b[1;31mValueError\u001b[0m: continuous format is not supported"
     ]
    }
   ],
   "source": [
    "from sklearn.ensemble import RandomForestClassifier\n",
    "from sklearn.linear_model import LogisticRegression\n",
    "from sklearn.metrics import roc_auc_score\n",
    "from sklearn.neighbors  import KNeighborsClassifier\n",
    "from sklearn.metrics import confusion_matrix\n",
    "\n",
    "\n",
    "# Using Skicit-learn to split data into training and testing sets\n",
    "from sklearn.model_selection import train_test_split\n",
    "# Split the data into training and testing sets\n",
    "Xtrain, Xtest, Ytrain , Ytest = train_test_split(X,Y, test_size = 0.2, random_state = 1)\n",
    "\n",
    "print('Training Features Shape:', Xtrain.shape)\n",
    "print('Training Labels Shape:', Ytrain.shape)\n",
    "print('Testing Features Shape:', Xtest.shape)\n",
    "print('Testing Labels Shape:', Ytest.shape)\n",
    "\n",
    "#Xtest.head()\n",
    "\n",
    "clf = LogisticRegression()\n",
    "clf.fit(Xtrain,Ytrain.astype('int'))\n",
    "\n",
    "# Use the forest's predict method on the test data\n",
    "predictions = clf.predict(Xtest)\n",
    "# Calculate the absolute errors\n",
    "roc=roc_auc_score(Ytest, predictions)\n",
    "print roc\n",
    "\n",
    "clf = KNeighborsClassifier()\n",
    "clf.fit(Xtrain,Ytrain.astype('int'))\n",
    "\n",
    "# Use the forest's predict method on the test data\n",
    "predictions = clf.predict(Xtest)\n",
    "# Calculate the absolute errors\n",
    "roc=roc_auc_score(Ytest, predictions)\n",
    "print roc\n",
    "\n",
    "rf = RandomForestClassifier()#n_estimators=100, oob_score=True,n_jobs=5, random_state=0)\n",
    "rf.fit(Xtrain,Ytrain.astype('int'))\n",
    "\n",
    "# Use the forest's predict method on the test data\n",
    "predictions = rf.predict(Xtest)\n",
    "# Calculate the absolute errors\n",
    "roc=roc_auc_score(Ytest, predictions)\n",
    "print roc\n",
    "\n",
    "confusion_matrix(Ytest, predictions)\n"
   ]
  },
  {
   "cell_type": "code",
   "execution_count": 281,
   "metadata": {},
   "outputs": [
    {
     "name": "stdout",
     "output_type": "stream",
     "text": [
      "[('age', 0.09), ('Platelets_count', 0.07), ('RR', 0.06), ('HR', 0.05), ('MeanBP', 0.05), ('Potassium', 0.05), ('Sodium', 0.05), ('Albumin', 0.05), ('Hb', 0.05), ('Arterial_pH', 0.05), ('paO2', 0.05), ('Arterial_BE', 0.05), ('Arterial_lactate', 0.05), ('Shock_Index', 0.05), ('cumulated_balance_tev', 0.05), ('Creatinine', 0.04), ('elixhauser', 0.03), ('GCS', 0.03), ('FiO2_1', 0.03), ('SOFA', 0.03), ('gender', 0.01), ('mechvent', 0.01)]\n"
     ]
    }
   ],
   "source": [
    "# Get numerical feature importances\n",
    "importances = list(rf.feature_importances_)\n",
    "# List of tuples with variable and importance\n",
    "feature_importances = [(feature, round(importance, 2)) for feature, importance in zip(feature_list, importances)]\n",
    "# Sort the feature importances by most important first\n",
    "feature_importances = sorted(feature_importances, key = lambda x: x[1], reverse = True)\n",
    "# Print out the feature and importances \n",
    "#[print('Variable: {:20} Importance: {}'.format(*pair)) for pair in feature_importances];\n",
    "print feature_importances"
   ]
  },
  {
   "cell_type": "code",
   "execution_count": null,
   "metadata": {},
   "outputs": [],
   "source": []
  },
  {
   "cell_type": "markdown",
   "metadata": {},
   "source": [
    "This dataset is not suitable to build mortality prediction models. Instead, let's try something with the available data: \n",
    "can we predict urine output given fluid intake and diastolic blood pressure?"
   ]
  },
  {
   "cell_type": "code",
   "execution_count": 231,
   "metadata": {},
   "outputs": [
    {
     "data": {
      "text/html": [
       "<div>\n",
       "<style scoped>\n",
       "    .dataframe tbody tr th:only-of-type {\n",
       "        vertical-align: middle;\n",
       "    }\n",
       "\n",
       "    .dataframe tbody tr th {\n",
       "        vertical-align: top;\n",
       "    }\n",
       "\n",
       "    .dataframe thead th {\n",
       "        text-align: right;\n",
       "    }\n",
       "</style>\n",
       "<table border=\"1\" class=\"dataframe\">\n",
       "  <thead>\n",
       "    <tr style=\"text-align: right;\">\n",
       "      <th></th>\n",
       "      <th>icustay_id</th>\n",
       "      <th>HOURS</th>\n",
       "      <th>dbp</th>\n",
       "      <th>intake</th>\n",
       "      <th>creat</th>\n",
       "      <th>uo</th>\n",
       "    </tr>\n",
       "  </thead>\n",
       "  <tbody>\n",
       "    <tr>\n",
       "      <th>0</th>\n",
       "      <td>232646</td>\n",
       "      <td>2.0</td>\n",
       "      <td>107.5</td>\n",
       "      <td>37.649033</td>\n",
       "      <td>0.5</td>\n",
       "      <td>155.0</td>\n",
       "    </tr>\n",
       "    <tr>\n",
       "      <th>1</th>\n",
       "      <td>232646</td>\n",
       "      <td>3.0</td>\n",
       "      <td>107.5</td>\n",
       "      <td>100.000002</td>\n",
       "      <td>0.5</td>\n",
       "      <td>75.0</td>\n",
       "    </tr>\n",
       "    <tr>\n",
       "      <th>2</th>\n",
       "      <td>232646</td>\n",
       "      <td>5.0</td>\n",
       "      <td>107.0</td>\n",
       "      <td>117.242251</td>\n",
       "      <td>0.5</td>\n",
       "      <td>190.0</td>\n",
       "    </tr>\n",
       "    <tr>\n",
       "      <th>3</th>\n",
       "      <td>232646</td>\n",
       "      <td>6.0</td>\n",
       "      <td>105.0</td>\n",
       "      <td>236.174689</td>\n",
       "      <td>0.5</td>\n",
       "      <td>75.0</td>\n",
       "    </tr>\n",
       "    <tr>\n",
       "      <th>4</th>\n",
       "      <td>232646</td>\n",
       "      <td>8.0</td>\n",
       "      <td>89.0</td>\n",
       "      <td>371.997738</td>\n",
       "      <td>0.5</td>\n",
       "      <td>45.0</td>\n",
       "    </tr>\n",
       "  </tbody>\n",
       "</table>\n",
       "</div>"
      ],
      "text/plain": [
       "   icustay_id  HOURS    dbp      intake  creat     uo\n",
       "0      232646    2.0  107.5   37.649033    0.5  155.0\n",
       "1      232646    3.0  107.5  100.000002    0.5   75.0\n",
       "2      232646    5.0  107.0  117.242251    0.5  190.0\n",
       "3      232646    6.0  105.0  236.174689    0.5   75.0\n",
       "4      232646    8.0   89.0  371.997738    0.5   45.0"
      ]
     },
     "execution_count": 231,
     "metadata": {},
     "output_type": "execute_result"
    }
   ],
   "source": [
    "query = \"\"\"\n",
    "with t1 as -- all time steps\n",
    "(\n",
    "\n",
    "SELECT distinct de.icustay_id\n",
    "  , round((strftime('%s',de.charttime)-strftime('%s',ie.intime))/60.0/120.0) as HOURS\n",
    "FROM chartevents de\n",
    "INNER join icustays ie\n",
    "ON de.icustay_id = ie.icustay_id\n",
    "order by de.icustay_id, charttime\n",
    "\n",
    "), t2 as  -- bp\n",
    "(\n",
    "with t1 as\n",
    "(SELECT de.icustay_id\n",
    "  , round((strftime('%s',de.charttime)-strftime('%s',ie.intime))/60.0/120.0+1) as HOURS\n",
    "  , de.valuenum\n",
    "FROM chartevents de\n",
    "INNER join d_items di\n",
    "ON de.itemid = di.itemid\n",
    "INNER join icustays ie\n",
    "ON de.icustay_id = ie.icustay_id\n",
    "WHERE label = 'Non Invasive Blood Pressure mean'\n",
    "ORDER BY charttime)\n",
    "select icustay_id, hours, avg(valuenum) as dbp\n",
    "from t1\n",
    "group by icustay_id, hours\n",
    "order by icustay_id, hours\n",
    "\n",
    "), t3 as  -- intake\n",
    "(\n",
    "with t1 as(\n",
    "select de.icustay_id\n",
    "  , round((strftime('%s',de.endtime)-strftime('%s',ie.intime))/60/120+2) as HOURS  -- intake recorded 1h before, for matching with uo\n",
    "  , de.amount\n",
    "from inputevents_mv de \n",
    "inner join icustays ie\n",
    "  on de.icustay_id = ie.icustay_id\n",
    "inner join d_items di\n",
    "  on de.itemid = di.itemid\n",
    "where de.amountuom='mL'\n",
    "order by de.icustay_id,endtime\n",
    ") select icustay_id, hours, sum(amount) as intake\n",
    "from t1\n",
    "group by icustay_id, hours\n",
    "order by icustay_id, hours\n",
    "\n",
    "), t4 as  -- UO\n",
    "(\n",
    "with t1 as\n",
    "(select de.icustay_id\n",
    "  , round((strftime('%s',de.charttime)-strftime('%s',ie.intime))/60.0/120.0+1) as HOURS\n",
    "  , de.value\n",
    "from outputevents de \n",
    "inner join icustays ie\n",
    "  on de.icustay_id = ie.icustay_id\n",
    "inner join d_items di\n",
    "  on de.itemid = di.itemid\n",
    "order by de.icustay_id, charttime\n",
    ") select icustay_id, hours, sum(value) as uo\n",
    "from t1\n",
    "group by icustay_id, hours\n",
    "order by icustay_id, hours\n",
    "\n",
    "), t5 as -- creat\n",
    "(\n",
    "with t1 as\n",
    "(SELECT de.icustay_id\n",
    "  , round((strftime('%s',de.charttime)-strftime('%s',ie.intime))/60.0/120.0) as HOURS\n",
    "  , de.valuenum\n",
    "FROM chartevents de\n",
    "INNER join d_items di\n",
    "ON de.itemid = di.itemid\n",
    "INNER join icustays ie\n",
    "ON de.icustay_id = ie.icustay_id\n",
    "WHERE label = 'Creatinine'\n",
    "ORDER BY charttime)\n",
    "select icustay_id, hours, avg(valuenum) as creat\n",
    "from t1\n",
    "group by icustay_id, hours\n",
    "order by icustay_id, hours\n",
    ")\n",
    "\n",
    "select t1.*, t2.dbp,t3.intake,t5.creat,t4.uo\n",
    "from t1, t2, t3, t4, t5\n",
    "where t1.icustay_id=t2.icustay_id and t1.icustay_id=t3.icustay_id and t1.icustay_id=t4.icustay_id and t1.icustay_id=t5.icustay_id  and t1.hours=t2.hours and t1.hours=t3.hours and t1.hours=t4.hours and t1.hours>=t5.hours and t1.hours<=t5.hours+12\n",
    "\"\"\"\n",
    "    \n",
    "uo = pd.read_sql_query(query,conn)\n",
    "\n",
    "uo.head()\n",
    "##len(uo)\n",
    "#Y=uo[,4]\n",
    "#Y=np.array(uo,'uo')\n",
    "#uo[:,4]\n",
    "\n",
    "X=uo.drop('icustay_id', axis = 1)\n",
    "X=X.drop('HOURS',axis=1)\n",
    "Y=X.intake\n",
    "X=X.drop('intake',axis=1)  \n",
    "feature_list = list(X.columns)\n",
    "\n",
    "#len(Y)\n",
    "#print uo\n",
    "#Y[Y>500]=500\n",
    "#np.max(Y)\n",
    "#X.head()\n",
    "#print feature_list\n",
    "uo.head()"
   ]
  },
  {
   "cell_type": "code",
   "execution_count": null,
   "metadata": {},
   "outputs": [],
   "source": [
    "X=uo.drop('icustay_id', axis = 1)\n",
    "X=X.drop('HOURS',axis=1)\n",
    "Y=X.uo\n",
    "X=X.drop('uo',axis=1)  \n",
    "feature_list = list(X.columns)"
   ]
  },
  {
   "cell_type": "code",
   "execution_count": 247,
   "metadata": {},
   "outputs": [
    {
     "name": "stdout",
     "output_type": "stream",
     "text": [
      "('Training Features Shape:', (375, 22))\n",
      "('Training Labels Shape:', (375L,))\n",
      "('Testing Features Shape:', (125, 22))\n",
      "('Testing Labels Shape:', (125L,))\n",
      "0.5\n",
      "('Mean Absolute Error:', 0.29, 'mL of intake')\n",
      "304      NaN\n",
      "340      NaN\n",
      "47     100.0\n",
      "67     100.0\n",
      "479      NaN\n",
      "485    100.0\n",
      "310      NaN\n",
      "31     100.0\n",
      "249      NaN\n",
      "90       NaN\n",
      "322      NaN\n",
      "168      NaN\n",
      "119      NaN\n",
      "66       NaN\n",
      "305      NaN\n",
      "189      NaN\n",
      "434      NaN\n",
      "289      NaN\n",
      "142      NaN\n",
      "146      NaN\n",
      "293      NaN\n",
      "312    100.0\n",
      "311      NaN\n",
      "492    100.0\n",
      "65       NaN\n",
      "374    100.0\n",
      "34     100.0\n",
      "342    100.0\n",
      "173      NaN\n",
      "201      NaN\n",
      "       ...  \n",
      "11     100.0\n",
      "192      NaN\n",
      "92       NaN\n",
      "221      NaN\n",
      "110    100.0\n",
      "238    100.0\n",
      "438      NaN\n",
      "475      NaN\n",
      "58       NaN\n",
      "380      NaN\n",
      "78       NaN\n",
      "379      NaN\n",
      "247      NaN\n",
      "207      NaN\n",
      "101      NaN\n",
      "344      NaN\n",
      "392      NaN\n",
      "423      NaN\n",
      "488      NaN\n",
      "256      NaN\n",
      "180      NaN\n",
      "436    100.0\n",
      "18       NaN\n",
      "40       NaN\n",
      "421      NaN\n",
      "469    100.0\n",
      "41       NaN\n",
      "159    100.0\n",
      "286    100.0\n",
      "132      NaN\n",
      "Name: mortality_90d, Length: 125, dtype: float64\n",
      "('Accuracy:', 0.0, '%.')\n"
     ]
    }
   ],
   "source": [
    "from sklearn.ensemble import RandomForestClassifier\n",
    "from sklearn.metrics import roc_auc_score\n",
    "\n",
    "rf = RandomForestClassifier(n_estimators=500, oob_score=True, random_state=123456)\n",
    "clf = LogisticRegression()\n",
    "\n",
    "# Using Skicit-learn to split data into training and testing sets\n",
    "from sklearn.model_selection import train_test_split\n",
    "# Split the data into training and testing sets\n",
    "Xtrain, Xtest, Ytrain , Ytest = train_test_split(X,Y, test_size = 0.25, random_state = 1)\n",
    "\n",
    "print('Training Features Shape:', Xtrain.shape)\n",
    "print('Training Labels Shape:', Ytrain.shape)\n",
    "print('Testing Features Shape:', Xtest.shape)\n",
    "print('Testing Labels Shape:', Ytest.shape)\n",
    "\n",
    "Xtest.head()\n",
    "\n",
    "rf.fit(Xtrain,Ytrain.astype('int'))\n",
    "clf\n",
    "\n",
    "# Use the forest's predict method on the test data\n",
    "predictions = rf.predict(Xtest)\n",
    "# Calculate the absolute errors\n",
    "roc=roc_auc_score(Ytest, predictions)\n",
    "print roc\n",
    "\n",
    "errors = abs(predictions - Ytest)\n",
    "print('Mean Absolute Error:', round(np.mean(errors), 2), 'mL of intake')\n",
    "\n",
    "# Calculate mean absolute percentage error (MAPE)\n",
    "mape = 100 * (errors / Ytest)\n",
    "#print mape\n",
    "mape[mape>1E4]=0\n",
    "#mape[mape<-1E3]=0\n",
    "# Calculate and display accuracy\n",
    "accuracy = 100 - np.mean(mape)\n",
    "print mape\n",
    "print('Accuracy:', round(accuracy, 2), '%.')\n"
   ]
  },
  {
   "cell_type": "code",
   "execution_count": 280,
   "metadata": {},
   "outputs": [
    {
     "name": "stdout",
     "output_type": "stream",
     "text": [
      "[('age', 0.09), ('Platelets_count', 0.07), ('RR', 0.06), ('HR', 0.05), ('MeanBP', 0.05), ('Potassium', 0.05), ('Sodium', 0.05), ('Albumin', 0.05), ('Hb', 0.05), ('Arterial_pH', 0.05), ('paO2', 0.05), ('Arterial_BE', 0.05), ('Arterial_lactate', 0.05), ('Shock_Index', 0.05), ('cumulated_balance_tev', 0.05), ('Creatinine', 0.04), ('elixhauser', 0.03), ('GCS', 0.03), ('FiO2_1', 0.03), ('SOFA', 0.03), ('gender', 0.01), ('mechvent', 0.01)]\n"
     ]
    }
   ],
   "source": []
  },
  {
   "cell_type": "code",
   "execution_count": 158,
   "metadata": {},
   "outputs": [
    {
     "ename": "ImportError",
     "evalue": "No module named pydot",
     "output_type": "error",
     "traceback": [
      "\u001b[1;31m---------------------------------------------------------------------------\u001b[0m",
      "\u001b[1;31mImportError\u001b[0m                               Traceback (most recent call last)",
      "\u001b[1;32m<ipython-input-158-797f9588d52b>\u001b[0m in \u001b[0;36m<module>\u001b[1;34m()\u001b[0m\n\u001b[0;32m      1\u001b[0m \u001b[1;31m# Import tools needed for visualization\u001b[0m\u001b[1;33m\u001b[0m\u001b[1;33m\u001b[0m\u001b[0m\n\u001b[0;32m      2\u001b[0m \u001b[1;32mfrom\u001b[0m \u001b[0msklearn\u001b[0m\u001b[1;33m.\u001b[0m\u001b[0mtree\u001b[0m \u001b[1;32mimport\u001b[0m \u001b[0mexport_graphviz\u001b[0m\u001b[1;33m\u001b[0m\u001b[0m\n\u001b[1;32m----> 3\u001b[1;33m \u001b[1;32mimport\u001b[0m \u001b[0mpydot\u001b[0m\u001b[1;33m\u001b[0m\u001b[0m\n\u001b[0m\u001b[0;32m      4\u001b[0m \u001b[1;31m# Limit depth of tree to 3 levels\u001b[0m\u001b[1;33m\u001b[0m\u001b[1;33m\u001b[0m\u001b[0m\n\u001b[0;32m      5\u001b[0m \u001b[0mrf_small\u001b[0m \u001b[1;33m=\u001b[0m \u001b[0mRandomForestRegressor\u001b[0m\u001b[1;33m(\u001b[0m\u001b[0mn_estimators\u001b[0m\u001b[1;33m=\u001b[0m\u001b[1;36m10\u001b[0m\u001b[1;33m,\u001b[0m \u001b[0mmax_depth\u001b[0m \u001b[1;33m=\u001b[0m \u001b[1;36m3\u001b[0m\u001b[1;33m)\u001b[0m\u001b[1;33m\u001b[0m\u001b[0m\n",
      "\u001b[1;31mImportError\u001b[0m: No module named pydot"
     ]
    }
   ],
   "source": [
    "# Import tools needed for visualization\n",
    "from sklearn.tree import export_graphviz\n",
    "import pydot\n",
    "# Limit depth of tree to 3 levels\n",
    "rf_small = RandomForestRegressor(n_estimators=10, max_depth = 3)\n",
    "rf_small.fit(X, Y)\n",
    "# Extract the small tree\n",
    "tree_small = rf_small.estimators_[5]\n",
    "# Save the tree as a png image\n",
    "export_graphviz(tree_small, out_file = 'small_tree.dot', feature_names = feature_list, rounded = True, precision = 1)\n",
    "(graph, ) = pydot.graph_from_dot_file('small_tree.dot')\n",
    "graph.write_png('small_tree.png');"
   ]
  },
  {
   "cell_type": "code",
   "execution_count": 35,
   "metadata": {},
   "outputs": [
    {
     "data": {
      "text/plain": [
       "[<matplotlib.lines.Line2D at 0xb944908>]"
      ]
     },
     "execution_count": 35,
     "metadata": {},
     "output_type": "execute_result"
    },
    {
     "data": {
      "image/png": "[encoded data removed]",
      "text/plain": [
       "<matplotlib.figure.Figure at 0xabb9c50>"
      ]
     },
     "metadata": {},
     "output_type": "display_data"
    }
   ],
   "source": [
    "import pandas as pd\n",
    "\n",
    "x1 = ce.HOURS[ce.LABEL=='Non Invasive Blood Pressure diastolic']\n",
    "y1 = ce.VALUENUM[ce.LABEL=='Non Invasive Blood Pressure diastolic']\n",
    "x2=oe.HOURS\n",
    "y2=oe.VALUE\n",
    "\n",
    "d = {'x1': x1, 'y1': y1}\n",
    "df = pd.DataFrame(data=d)\n",
    "\n",
    "#df=pd.DataFrame([x1 y1], columns=['x1','y1'])\n",
    "#df.head()\n",
    "bp=df.groupby(['x1']).mean()\n",
    "\n",
    "d = {'x2': x2, 'y2': y2}\n",
    "df = pd.DataFrame(data=d)\n",
    "uo=df.groupby(['x2']).mean()\n",
    "\n",
    "#plt.plot(bp.x1,bp.y1*3)\n",
    "#plt.plot(uo.x2,uo.y2)\n",
    "\n",
    "#bp.head()\n",
    "plt.plot(uo['y2'])\n",
    "plt.plot(bp['y1']*3)"
   ]
  },
  {
   "cell_type": "code",
   "execution_count": null,
   "metadata": {},
   "outputs": [],
   "source": []
  },
  {
   "cell_type": "code",
   "execution_count": 119,
   "metadata": {},
   "outputs": [
    {
     "name": "stdout",
     "output_type": "stream",
     "text": [
      "0      60.0\n",
      "1      80.0\n",
      "2      60.0\n",
      "3      60.0\n",
      "4      60.0\n",
      "5     100.0\n",
      "6      80.0\n",
      "7      80.0\n",
      "8      50.0\n",
      "9      50.0\n",
      "10     20.0\n",
      "11     15.0\n",
      "12     25.0\n",
      "13     20.0\n",
      "14     15.0\n",
      "15     40.0\n",
      "16     40.0\n",
      "17     60.0\n",
      "18     80.0\n",
      "19    100.0\n",
      "20    120.0\n",
      "21    180.0\n",
      "22    140.0\n",
      "23    100.0\n",
      "24      NaN\n",
      "25    200.0\n",
      "26      NaN\n",
      "27    120.0\n",
      "28    150.0\n",
      "29    170.0\n",
      "      ...  \n",
      "53     80.0\n",
      "54     75.0\n",
      "55     80.0\n",
      "56    140.0\n",
      "57     30.0\n",
      "58     30.0\n",
      "59     30.0\n",
      "60     30.0\n",
      "61     30.0\n",
      "62     30.0\n",
      "63     30.0\n",
      "64     30.0\n",
      "65     30.0\n",
      "66    100.0\n",
      "67    100.0\n",
      "68    100.0\n",
      "69     80.0\n",
      "70     80.0\n",
      "71      NaN\n",
      "72     20.0\n",
      "73     30.0\n",
      "74     90.0\n",
      "75     90.0\n",
      "76     15.0\n",
      "77     15.0\n",
      "78     15.0\n",
      "79     15.0\n",
      "80     40.0\n",
      "81     35.0\n",
      "82     35.0\n",
      "Name: VALUE, Length: 83, dtype: float64\n"
     ]
    },
    {
     "ename": "TypeError",
     "evalue": "list indices must be integers, not Series",
     "output_type": "error",
     "traceback": [
      "\u001b[1;31m---------------------------------------------------------------------------\u001b[0m",
      "\u001b[1;31mTypeError\u001b[0m                                 Traceback (most recent call last)",
      "\u001b[1;32m<ipython-input-119-c180e5b82182>\u001b[0m in \u001b[0;36m<module>\u001b[1;34m()\u001b[0m\n\u001b[0;32m     11\u001b[0m \u001b[1;32mprint\u001b[0m \u001b[0my2\u001b[0m\u001b[1;33m\u001b[0m\u001b[0m\n\u001b[0;32m     12\u001b[0m \u001b[1;33m\u001b[0m\u001b[0m\n\u001b[1;32m---> 13\u001b[1;33m \u001b[0mx2\u001b[0m\u001b[1;33m[\u001b[0m\u001b[0my2\u001b[0m\u001b[1;33m>\u001b[0m\u001b[1;36m250\u001b[0m\u001b[1;33m]\u001b[0m\u001b[1;33m=\u001b[0m\u001b[1;36m50\u001b[0m\u001b[1;33m\u001b[0m\u001b[0m\n\u001b[0m\u001b[0;32m     14\u001b[0m \u001b[1;31m#y1[y2>250]=float('nan')\u001b[0m\u001b[1;33m\u001b[0m\u001b[1;33m\u001b[0m\u001b[0m\n\u001b[0;32m     15\u001b[0m \u001b[0my2\u001b[0m\u001b[1;33m[\u001b[0m\u001b[0my2\u001b[0m\u001b[1;33m>\u001b[0m\u001b[1;36m250\u001b[0m\u001b[1;33m]\u001b[0m\u001b[1;33m=\u001b[0m\u001b[0mfloat\u001b[0m\u001b[1;33m(\u001b[0m\u001b[1;34m'nan'\u001b[0m\u001b[1;33m)\u001b[0m\u001b[1;33m\u001b[0m\u001b[0m\n",
      "\u001b[1;31mTypeError\u001b[0m: list indices must be integers, not Series"
     ]
    }
   ],
   "source": [
    "\n",
    "# Set x equal to the times\n",
    "x1 = list(ce.HOURS[ce.LABEL=='Non Invasive Blood Pressure diastolic'])\n",
    "\n",
    "# Set y equal to the heart rates\n",
    "y1 = ce.VALUENUM[ce.LABEL=='Non Invasive Blood Pressure diastolic']\n",
    "\n",
    "x2=list(oe.HOURS)\n",
    "y2=oe.VALUE\n",
    "\n",
    "print y2\n",
    "\n",
    "x2[y2>250]=50\n",
    "#y1[y2>250]=float('nan')\n",
    "y2[y2>250]=float('nan')\n",
    "    \n",
    "#plt.plot(x1,y1*3)\n",
    "#plt.plot(x2,y2)\n",
    "\n",
    "#len(x2)\n",
    "i=list(set(x1) & set(x2)) #intersection of the 2 lists of hours\n",
    "#print x1,x2,i\n",
    "\n",
    "da=np.zeros((200,3))\n",
    "\n",
    "for j in range(0, len(i)):\n",
    "    #print(i[j]\n",
    "    ii=x1.index(i[j])\n",
    "    da[ii,1]=x1[i]\n",
    "  #  ii=x2.index(i[j])\n",
    "  #   da[ii,2]=x2[i[j]] \n",
    "                \n",
    "#print i"
   ]
  },
  {
   "cell_type": "code",
   "execution_count": 125,
   "metadata": {},
   "outputs": [
    {
     "ename": "ValueError",
     "evalue": "Input contains NaN, infinity or a value too large for dtype('float32').",
     "output_type": "error",
     "traceback": [
      "\u001b[1;31m---------------------------------------------------------------------------\u001b[0m",
      "\u001b[1;31mValueError\u001b[0m                                Traceback (most recent call last)",
      "\u001b[1;32m<ipython-input-125-03757069a34d>\u001b[0m in \u001b[0;36m<module>\u001b[1;34m()\u001b[0m\n\u001b[0;32m      1\u001b[0m \u001b[1;32mfrom\u001b[0m \u001b[0msklearn\u001b[0m\u001b[1;33m.\u001b[0m\u001b[0mensemble\u001b[0m \u001b[1;32mimport\u001b[0m \u001b[0mRandomForestClassifier\u001b[0m\u001b[1;33m\u001b[0m\u001b[0m\n\u001b[0;32m      2\u001b[0m \u001b[0mrf\u001b[0m \u001b[1;33m=\u001b[0m \u001b[0mRandomForestClassifier\u001b[0m\u001b[1;33m(\u001b[0m\u001b[0mn_estimators\u001b[0m\u001b[1;33m=\u001b[0m\u001b[1;36m100\u001b[0m\u001b[1;33m,\u001b[0m \u001b[0moob_score\u001b[0m\u001b[1;33m=\u001b[0m\u001b[0mTrue\u001b[0m\u001b[1;33m,\u001b[0m \u001b[0mrandom_state\u001b[0m\u001b[1;33m=\u001b[0m\u001b[1;36m123456\u001b[0m\u001b[1;33m)\u001b[0m\u001b[1;33m\u001b[0m\u001b[0m\n\u001b[1;32m----> 3\u001b[1;33m \u001b[0mrf\u001b[0m\u001b[1;33m.\u001b[0m\u001b[0mfit\u001b[0m\u001b[1;33m(\u001b[0m\u001b[0mnp\u001b[0m\u001b[1;33m.\u001b[0m\u001b[0marray\u001b[0m\u001b[1;33m(\u001b[0m\u001b[0mx2\u001b[0m\u001b[1;33m)\u001b[0m\u001b[1;33m.\u001b[0m\u001b[0mreshape\u001b[0m\u001b[1;33m(\u001b[0m\u001b[1;33m-\u001b[0m\u001b[1;36m1\u001b[0m\u001b[1;33m,\u001b[0m\u001b[1;36m1\u001b[0m\u001b[1;33m)\u001b[0m\u001b[1;33m,\u001b[0m \u001b[0mnp\u001b[0m\u001b[1;33m.\u001b[0m\u001b[0marray\u001b[0m\u001b[1;33m(\u001b[0m\u001b[0my2\u001b[0m\u001b[1;33m)\u001b[0m\u001b[1;33m)\u001b[0m\u001b[1;33m\u001b[0m\u001b[0m\n\u001b[0m",
      "\u001b[1;32mD:\\Software\\Anaconda\\lib\\site-packages\\sklearn\\ensemble\\forest.py\u001b[0m in \u001b[0;36mfit\u001b[1;34m(self, X, y, sample_weight)\u001b[0m\n\u001b[0;32m    245\u001b[0m         \"\"\"\n\u001b[0;32m    246\u001b[0m         \u001b[1;31m# Validate or convert input data\u001b[0m\u001b[1;33m\u001b[0m\u001b[1;33m\u001b[0m\u001b[0m\n\u001b[1;32m--> 247\u001b[1;33m         \u001b[0mX\u001b[0m \u001b[1;33m=\u001b[0m \u001b[0mcheck_array\u001b[0m\u001b[1;33m(\u001b[0m\u001b[0mX\u001b[0m\u001b[1;33m,\u001b[0m \u001b[0maccept_sparse\u001b[0m\u001b[1;33m=\u001b[0m\u001b[1;34m\"csc\"\u001b[0m\u001b[1;33m,\u001b[0m \u001b[0mdtype\u001b[0m\u001b[1;33m=\u001b[0m\u001b[0mDTYPE\u001b[0m\u001b[1;33m)\u001b[0m\u001b[1;33m\u001b[0m\u001b[0m\n\u001b[0m\u001b[0;32m    248\u001b[0m         \u001b[0my\u001b[0m \u001b[1;33m=\u001b[0m \u001b[0mcheck_array\u001b[0m\u001b[1;33m(\u001b[0m\u001b[0my\u001b[0m\u001b[1;33m,\u001b[0m \u001b[0maccept_sparse\u001b[0m\u001b[1;33m=\u001b[0m\u001b[1;34m'csc'\u001b[0m\u001b[1;33m,\u001b[0m \u001b[0mensure_2d\u001b[0m\u001b[1;33m=\u001b[0m\u001b[0mFalse\u001b[0m\u001b[1;33m,\u001b[0m \u001b[0mdtype\u001b[0m\u001b[1;33m=\u001b[0m\u001b[0mNone\u001b[0m\u001b[1;33m)\u001b[0m\u001b[1;33m\u001b[0m\u001b[0m\n\u001b[0;32m    249\u001b[0m         \u001b[1;32mif\u001b[0m \u001b[0msample_weight\u001b[0m \u001b[1;32mis\u001b[0m \u001b[1;32mnot\u001b[0m \u001b[0mNone\u001b[0m\u001b[1;33m:\u001b[0m\u001b[1;33m\u001b[0m\u001b[0m\n",
      "\u001b[1;32mD:\\Software\\Anaconda\\lib\\site-packages\\sklearn\\utils\\validation.py\u001b[0m in \u001b[0;36mcheck_array\u001b[1;34m(array, accept_sparse, dtype, order, copy, force_all_finite, ensure_2d, allow_nd, ensure_min_samples, ensure_min_features, warn_on_dtype, estimator)\u001b[0m\n\u001b[0;32m    451\u001b[0m                              % (array.ndim, estimator_name))\n\u001b[0;32m    452\u001b[0m         \u001b[1;32mif\u001b[0m \u001b[0mforce_all_finite\u001b[0m\u001b[1;33m:\u001b[0m\u001b[1;33m\u001b[0m\u001b[0m\n\u001b[1;32m--> 453\u001b[1;33m             \u001b[0m_assert_all_finite\u001b[0m\u001b[1;33m(\u001b[0m\u001b[0marray\u001b[0m\u001b[1;33m)\u001b[0m\u001b[1;33m\u001b[0m\u001b[0m\n\u001b[0m\u001b[0;32m    454\u001b[0m \u001b[1;33m\u001b[0m\u001b[0m\n\u001b[0;32m    455\u001b[0m     \u001b[0mshape_repr\u001b[0m \u001b[1;33m=\u001b[0m \u001b[0m_shape_repr\u001b[0m\u001b[1;33m(\u001b[0m\u001b[0marray\u001b[0m\u001b[1;33m.\u001b[0m\u001b[0mshape\u001b[0m\u001b[1;33m)\u001b[0m\u001b[1;33m\u001b[0m\u001b[0m\n",
      "\u001b[1;32mD:\\Software\\Anaconda\\lib\\site-packages\\sklearn\\utils\\validation.py\u001b[0m in \u001b[0;36m_assert_all_finite\u001b[1;34m(X)\u001b[0m\n\u001b[0;32m     42\u001b[0m             and not np.isfinite(X).all()):\n\u001b[0;32m     43\u001b[0m         raise ValueError(\"Input contains NaN, infinity\"\n\u001b[1;32m---> 44\u001b[1;33m                          \" or a value too large for %r.\" % X.dtype)\n\u001b[0m\u001b[0;32m     45\u001b[0m \u001b[1;33m\u001b[0m\u001b[0m\n\u001b[0;32m     46\u001b[0m \u001b[1;33m\u001b[0m\u001b[0m\n",
      "\u001b[1;31mValueError\u001b[0m: Input contains NaN, infinity or a value too large for dtype('float32')."
     ]
    }
   ],
   "source": [
    "from sklearn.ensemble import RandomForestClassifier\n",
    "rf = RandomForestClassifier(n_estimators=100, oob_score=True, random_state=123456)\n",
    "rf.fit(np.array(x2).reshape(-1,1), np.array(y2))\n"
   ]
  },
  {
   "cell_type": "code",
   "execution_count": 64,
   "metadata": {},
   "outputs": [
    {
     "name": "stdout",
     "output_type": "stream",
     "text": [
      "0         30.000000\n",
      "2         75.000001\n",
      "3        375.000001\n",
      "4        435.000002\n",
      "6        472.500003\n",
      "7       1284.999990\n",
      "8       1289.166657\n",
      "9       1472.466644\n",
      "10      1659.966637\n",
      "11      2659.966596\n",
      "13      2694.475225\n",
      "15      2715.641892\n",
      "17      2715.808559\n",
      "18      2988.141898\n",
      "19      2988.708384\n",
      "20      3018.708384\n",
      "24      3094.041389\n",
      "26      3172.874733\n",
      "27      3472.874733\n",
      "29      3497.208067\n",
      "31      3528.247080\n",
      "33      3530.427036\n",
      "35      3538.515008\n",
      "38      3553.181675\n",
      "39      3853.181675\n",
      "40      4480.848690\n",
      "42      5108.515377\n",
      "44      5155.015381\n",
      "46      5155.098714\n",
      "48      5202.441629\n",
      "           ...     \n",
      "103     9175.692825\n",
      "105     9250.127433\n",
      "107     9258.212851\n",
      "109     9258.380708\n",
      "111     9358.380708\n",
      "113     9374.260708\n",
      "115     9391.717861\n",
      "117     9631.717861\n",
      "118    10544.893583\n",
      "119    10604.893583\n",
      "120    10634.893583\n",
      "122    10734.893583\n",
      "124    10764.893583\n",
      "125    10794.893583\n",
      "127    10894.293586\n",
      "129    10994.336501\n",
      "131    11490.336517\n",
      "132    11520.336517\n",
      "133    11550.336517\n",
      "134    11580.336517\n",
      "135    11610.336517\n",
      "137    11710.336517\n",
      "139    11810.379432\n",
      "141    11849.322312\n",
      "143    11849.657882\n",
      "144    11879.657882\n",
      "145    11909.657882\n",
      "148    11970.714885\n",
      "150    12031.788713\n",
      "152    12047.224955\n",
      "Name: AMOUNT, Length: 87, dtype: float64\n"
     ]
    }
   ],
   "source": [
    "query = \"\"\"\n",
    "select de.icustay_id\n",
    "  , (strftime('%s',de.starttime)-strftime('%s',ie.intime))/60.0/60.0 as HOURS_START\n",
    "  , (strftime('%s',de.endtime)-strftime('%s',ie.intime))/60.0/60.0 as HOURS_END\n",
    "  , de.amount\n",
    "  , de.amountuom\n",
    "  , de.rate\n",
    "  , de.rateuom\n",
    "from inputevents_mv de \n",
    "inner join icustays ie\n",
    "  on de.icustay_id = ie.icustay_id\n",
    "inner join d_items di\n",
    "  on de.itemid = di.itemid\n",
    "where de.subject_id = 40080\n",
    "order by endtime;\n",
    "\"\"\"\n",
    "\n",
    "ie = pd.read_sql_query(query,conn)\n",
    "ie.head()\n",
    "\n",
    "# s=ie.AMOUNT[ie.AMOUNTUOM=='mL'].cumsum()\n",
    "print(s)\n",
    " "
   ]
  },
  {
   "cell_type": "code",
   "execution_count": null,
   "metadata": {},
   "outputs": [],
   "source": []
  },
  {
   "cell_type": "code",
   "execution_count": null,
   "metadata": {},
   "outputs": [],
   "source": []
  }
 ],
 "metadata": {
  "kernelspec": {
   "display_name": "Python 2",
   "language": "python",
   "name": "python2"
  },
  "language_info": {
   "codemirror_mode": {
    "name": "ipython",
    "version": 2
   },
   "file_extension": ".py",
   "mimetype": "text/x-python",
   "name": "python",
   "nbconvert_exporter": "python",
   "pygments_lexer": "ipython2",
   "version": "2.7.14"
  }
 },
 "nbformat": 4,
 "nbformat_minor": 1
}
