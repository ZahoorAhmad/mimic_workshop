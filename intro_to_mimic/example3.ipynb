{
 "cells": [
  {
   "cell_type": "markdown",
   "metadata": {},
   "source": [
    "# Exploring the trajectory of a single patient\n",
    "\n",
    "### Importing Python libraries"
   ]
  },
  {
   "cell_type": "markdown",
   "metadata": {},
   "source": [
    " We first need to import some tools for working with data in Python.\n",
    "    - NumPy is for working with numbers\n",
    "    - Pandas is for analysing data\n",
    "    - MatPlotLib is for making plots\n",
    "    - Sqlite3 to connect to the database"
   ]
  },
  {
   "cell_type": "code",
   "execution_count": 5,
   "metadata": {},
   "outputs": [],
   "source": [
    "import numpy as np\n",
    "import pandas as pd\n",
    "import matplotlib.pyplot as plt\n",
    "import sqlite3"
   ]
  },
  {
   "cell_type": "markdown",
   "metadata": {},
   "source": [
    "### Connect to the database"
   ]
  },
  {
   "cell_type": "code",
   "execution_count": 6,
   "metadata": {},
   "outputs": [],
   "source": [
    "conn = sqlite3.connect('C:/Users/mk5414/desktop/mimicdata.sqlite')"
   ]
  },
  {
   "cell_type": "code",
   "execution_count": 7,
   "metadata": {},
   "outputs": [],
   "source": [
    "# Create our test query\n",
    "test_query = \"\"\"\n",
    "SELECT subject_id, hadm_id, admittime, dischtime, admission_type, diagnosis\n",
    "FROM admissions\n",
    "\"\"\""
   ]
  },
  {
   "cell_type": "code",
   "execution_count": 8,
   "metadata": {},
   "outputs": [
    {
     "data": {
      "text/html": [
       "<div>\n",
       "<style scoped>\n",
       "    .dataframe tbody tr th:only-of-type {\n",
       "        vertical-align: middle;\n",
       "    }\n",
       "\n",
       "    .dataframe tbody tr th {\n",
       "        vertical-align: top;\n",
       "    }\n",
       "\n",
       "    .dataframe thead th {\n",
       "        text-align: right;\n",
       "    }\n",
       "</style>\n",
       "<table border=\"1\" class=\"dataframe\">\n",
       "  <thead>\n",
       "    <tr style=\"text-align: right;\">\n",
       "      <th></th>\n",
       "      <th>SUBJECT_ID</th>\n",
       "      <th>HADM_ID</th>\n",
       "      <th>ADMITTIME</th>\n",
       "      <th>DISCHTIME</th>\n",
       "      <th>ADMISSION_TYPE</th>\n",
       "      <th>DIAGNOSIS</th>\n",
       "    </tr>\n",
       "  </thead>\n",
       "  <tbody>\n",
       "    <tr>\n",
       "      <th>0</th>\n",
       "      <td>40036</td>\n",
       "      <td>198489</td>\n",
       "      <td>2141-08-01 23:46:00</td>\n",
       "      <td>2141-08-09 19:15:00</td>\n",
       "      <td>EMERGENCY</td>\n",
       "      <td>SEPSIS</td>\n",
       "    </tr>\n",
       "    <tr>\n",
       "      <th>1</th>\n",
       "      <td>40080</td>\n",
       "      <td>162107</td>\n",
       "      <td>2106-05-31 16:43:00</td>\n",
       "      <td>2106-06-05 01:18:00</td>\n",
       "      <td>EMERGENCY</td>\n",
       "      <td>CONGESTIVE HEART FAILURE</td>\n",
       "    </tr>\n",
       "    <tr>\n",
       "      <th>2</th>\n",
       "      <td>40084</td>\n",
       "      <td>195762</td>\n",
       "      <td>2173-01-31 22:11:00</td>\n",
       "      <td>2173-02-05 01:31:00</td>\n",
       "      <td>EMERGENCY</td>\n",
       "      <td>INTRACRANIAL HEMORRHAGE;OPEN FX</td>\n",
       "    </tr>\n",
       "    <tr>\n",
       "      <th>3</th>\n",
       "      <td>40116</td>\n",
       "      <td>157106</td>\n",
       "      <td>2150-02-19 00:12:00</td>\n",
       "      <td>2150-03-11 13:58:00</td>\n",
       "      <td>EMERGENCY</td>\n",
       "      <td>GASTROINTESTINAL BLEED</td>\n",
       "    </tr>\n",
       "    <tr>\n",
       "      <th>4</th>\n",
       "      <td>40120</td>\n",
       "      <td>146466</td>\n",
       "      <td>2120-01-27 20:41:00</td>\n",
       "      <td>2120-02-12 17:14:00</td>\n",
       "      <td>EMERGENCY</td>\n",
       "      <td>CONGESTIVE HEART FAILURE</td>\n",
       "    </tr>\n",
       "  </tbody>\n",
       "</table>\n",
       "</div>"
      ],
      "text/plain": [
       "   SUBJECT_ID  HADM_ID            ADMITTIME            DISCHTIME  \\\n",
       "0       40036   198489  2141-08-01 23:46:00  2141-08-09 19:15:00   \n",
       "1       40080   162107  2106-05-31 16:43:00  2106-06-05 01:18:00   \n",
       "2       40084   195762  2173-01-31 22:11:00  2173-02-05 01:31:00   \n",
       "3       40116   157106  2150-02-19 00:12:00  2150-03-11 13:58:00   \n",
       "4       40120   146466  2120-01-27 20:41:00  2120-02-12 17:14:00   \n",
       "\n",
       "  ADMISSION_TYPE                        DIAGNOSIS  \n",
       "0      EMERGENCY                           SEPSIS  \n",
       "1      EMERGENCY         CONGESTIVE HEART FAILURE  \n",
       "2      EMERGENCY  INTRACRANIAL HEMORRHAGE;OPEN FX  \n",
       "3      EMERGENCY           GASTROINTESTINAL BLEED  \n",
       "4      EMERGENCY         CONGESTIVE HEART FAILURE  "
      ]
     },
     "execution_count": 8,
     "metadata": {},
     "output_type": "execute_result"
    }
   ],
   "source": [
    "# Run the query and assign the results to a variable\n",
    "test = pd.read_sql_query(test_query,conn)\n",
    "# Display the first few rows\n",
    "test.head()"
   ]
  },
  {
   "cell_type": "code",
   "execution_count": null,
   "metadata": {},
   "outputs": [],
   "source": []
  }
 ],
 "metadata": {
  "celltoolbar": "Raw Cell Format",
  "kernelspec": {
   "display_name": "Python 2",
   "language": "python",
   "name": "python2"
  },
  "language_info": {
   "codemirror_mode": {
    "name": "ipython",
    "version": 2
   },
   "file_extension": ".py",
   "mimetype": "text/x-python",
   "name": "python",
   "nbconvert_exporter": "python",
   "pygments_lexer": "ipython2",
   "version": "2.7.14"
  }
 },
 "nbformat": 4,
 "nbformat_minor": 2
}
